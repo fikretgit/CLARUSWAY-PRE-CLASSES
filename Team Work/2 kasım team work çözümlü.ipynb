{
  "cells": [
    {
      "cell_type": "markdown",
      "metadata": {
        "id": "-fONLJiQ_PAl"
      },
      "source": [
        "<center><img src=\"https://github.com/aaron-clarusway/fullstack/blob/master/itf-logo.png?raw=true\"  alt=\"alt text\" width=\"200\"/></center>\n",
        "<br>\n",
        "<h1><p style=\"text-align: center; color:darkblue\">Python Basic</p><h1>\n",
        "<center><h1>Workshop - 3</h1></center>\n",
        "<p><img align=\"right\"\n",
        "  src=\"https://secure.meetupstatic.com/photos/event/3/1/b/9/600_488352729.jpeg\"  width=\"15px\"></p>\n",
        "<br>\n",
        "\n",
        "\n",
        "# Subject: Collections - Control Flow Statements"
      ]
    },
    {
      "cell_type": "markdown",
      "metadata": {
        "id": "63t1VISp_PAo"
      },
      "source": [
        "## Coding Challenge-1 : Find the Largest Number\n",
        "\n",
        "Purpose of the this coding challenge is to solve a simple sorting problem in Python.\n",
        "\n",
        "> ### **Learning Outcomes**\n",
        "At the end of the this coding challenge, students will be able to;\n",
        "```\n",
        "- get a basic understanding of sorting algorithms.\n",
        "- demonstrate their knowledge of lists in python\n",
        "- implement loops to solve the problems in python\n",
        "- get a better understanding of computational thinking concepts\n",
        "\n",
        "> ### **Problem Statement**\n",
        "```python\n",
        "- Write a python code that finds the largest number among the ``n`` numbers given by the user as input.\n",
        "- First, take `n` from the user, then take `n` numbers one by one and select-print the largest one.\n",
        "- It is forbidden to use ``max()`` function.  \n",
        "- Indicate which computational thinking concepts have you used.\n",
        "- Example for user inputs and respective outputs\n",
        "```\n",
        "```text\n",
        "Input                Output\n",
        "---------------:     -------------------------:\n",
        "n = 5, 1 2 3 4 5     The largest number is:  5\n",
        "n = 3, 67 85 19      The largest number is:  85\n",
        "```"
      ]
    },
    {
      "cell_type": "markdown",
      "metadata": {
        "id": "jBSwuOJn_PAp"
      },
      "source": [
        "### Solution :"
      ]
    },
    {
      "cell_type": "code",
      "execution_count": null,
      "metadata": {
        "id": "GwIb26j7_PAp"
      },
      "outputs": [],
      "source": [
        "count=0\n",
        "array=[]\n",
        "size = int(input(\"How many numbers will you enter? \"))\n",
        "while count < size:\n",
        "    number= int(input('Please enter the number: '))\n",
        "    array.append(number)\n",
        "    count = count +1\n",
        "\n",
        "largest = array[0]\n",
        "for i in array:\n",
        "    if i > largest:\n",
        "        largest = i\n",
        "\n",
        "print(\"The largest number is : \", largest)"
      ]
    },
    {
      "cell_type": "code",
      "execution_count": 1,
      "metadata": {
        "colab": {
          "base_uri": "https://localhost:8080/"
        },
        "id": "70Z9VIty_ep9",
        "outputId": "f4b8dbb7-2fe5-49ff-ae06-ce4fa53b1f07"
      },
      "outputs": [
        {
          "name": "stdout",
          "output_type": "stream",
          "text": [
            "Kaç tane sayı olacak? 3\n",
            "Sayı giriniz: 5\n",
            "Sayı giriniz: 7\n",
            "Sayı giriniz: 2\n",
            "7\n"
          ]
        }
      ],
      "source": [
        "# max_value = ''\n",
        "nums = []\n",
        "\n",
        "count_of_nums = int(input(\"Kaç tane sayı olacak? \"))\n",
        "\n",
        "while count_of_nums > 0:\n",
        "  num = int(input(\"Sayı giriniz: \"))\n",
        "  nums.append(num)\n",
        "  count_of_nums -= 1\n",
        "\n",
        "if nums:\n",
        "  max_value = nums[0]\n",
        "\n",
        "\n",
        "for i in nums:\n",
        "  if i > max_value:\n",
        "    max_value = i\n",
        "\n",
        "\n",
        "print(max_value)\n",
        "\n"
      ]
    },
    {
      "cell_type": "code",
      "execution_count": 1,
      "metadata": {},
      "outputs": [
        {
          "name": "stdout",
          "output_type": "stream",
          "text": [
            "given numbers are: [34, 23, 12, 65]\n",
            "The largest number is: 65\n"
          ]
        }
      ],
      "source": [
        "# benim çözümüm:\n",
        "list1 = []\n",
        "n = int(input(\"How many numbers you'll write?: \"))\n",
        "for i in range(n):\n",
        "    given = int(input(\"enter the numbers you've choosen: \"))\n",
        "    list1.append(given)\n",
        "print(\"given numbers are:\",list1)\n",
        "list1.sort()\n",
        "print(f\"The largest number is: {list1[-1]}\")"
      ]
    },
    {
      "cell_type": "code",
      "execution_count": 7,
      "metadata": {
        "colab": {
          "base_uri": "https://localhost:8080/"
        },
        "id": "VI31ucDRySlN",
        "outputId": "016e493b-89f0-4eb4-ede0-fdd531a26330"
      },
      "outputs": [
        {
          "name": "stdout",
          "output_type": "stream",
          "text": [
            "Please enter a numbers: 1 2 3\n"
          ]
        },
        {
          "data": {
            "text/plain": [
              "3"
            ]
          },
          "execution_count": 7,
          "metadata": {},
          "output_type": "execute_result"
        }
      ],
      "source": [
        "n = input(\"Please enter a numbers: \").split()\n",
        "a = [ int(i) for i in n]\n",
        "sorted(a)\n",
        "a.sort()\n",
        "a[-1]"
      ]
    },
    {
      "cell_type": "code",
      "execution_count": 9,
      "metadata": {
        "colab": {
          "base_uri": "https://localhost:8080/"
        },
        "id": "jNWGqM3n1Zu-",
        "outputId": "6ed6b1e2-ad7e-4e32-d4fc-525b712f19bc"
      },
      "outputs": [
        {
          "name": "stdout",
          "output_type": "stream",
          "text": [
            "11,13,15\n"
          ]
        }
      ],
      "source": [
        "n = input(\"Please enter a numbers: \").split(\" \") # sadece split in içine tanımlanan şekilde yazınca max çalışıyor..!!\n",
        "print(max(n))"
      ]
    },
    {
      "cell_type": "code",
      "execution_count": 35,
      "metadata": {
        "colab": {
          "base_uri": "https://localhost:8080/"
        },
        "id": "szPZCdxU7tZX",
        "outputId": "9b7d3736-73fa-4d7c-c68a-db2efc0d6c72"
      },
      "outputs": [
        {
          "data": {
            "text/plain": [
              "['d', 'f', 'j', 'j', 'k', 'l', 's']"
            ]
          },
          "execution_count": 35,
          "metadata": {},
          "output_type": "execute_result"
        }
      ],
      "source": [
        "# \"jsdflkj\".sort() hatalı\n",
        "\n",
        "sorted(\"jsdflkj\")"
      ]
    },
    {
      "cell_type": "code",
      "execution_count": 22,
      "metadata": {
        "colab": {
          "base_uri": "https://localhost:8080/"
        },
        "id": "s6UDWDJB3Ypf",
        "outputId": "ef7b882d-6d7b-4573-a61c-6776f0ca26c3"
      },
      "outputs": [
        {
          "name": "stdout",
          "output_type": "stream",
          "text": [
            "{'aet': ['eat']}\n",
            "{'aet': ['eat', 'tea'], 'ant': ['tan']}\n",
            "{'aet': ['eat', 'tea', 'ate'], 'ant': ['tan', 'nat'], 'abt': ['bat']}\n"
          ]
        }
      ],
      "source": [
        "dic1 = {}\n",
        "for i in [\"eat\", \"tea\", \"tan\", \"ate\", \"nat\", \"bat\"]:\n",
        "    a = list(i)\n",
        "    a.sort()\n",
        "    b = \"\".join(a)\n",
        "    if b in dic1:\n",
        "      dic1[b].append(i)\n",
        "    else:\n",
        "      dic1[b] = [i]\n",
        "      print(dic1)\n",
        "# print(dic1.values())\n",
        "# print(list(dic1.values()))\n",
        "\n",
        "\n",
        "# a = list(\"sdfklw\")\n",
        "# c = sorted(a)\n",
        "# b = \"\".join(c)\n",
        "# b"
      ]
    },
    {
      "cell_type": "code",
      "execution_count": 24,
      "metadata": {},
      "outputs": [
        {
          "name": "stdout",
          "output_type": "stream",
          "text": [
            "aet\n",
            "aet\n",
            "ant\n",
            "aet\n",
            "ant\n",
            "abt\n"
          ]
        }
      ],
      "source": [
        "dic1 = {}\n",
        "for i in [\"eat\", \"tea\", \"tan\", \"ate\", \"nat\", \"bat\"]:\n",
        "    a = list(i)\n",
        "    a.sort()\n",
        "    b = \"\".join(a)\n",
        "    dic1[b]= [i]\n",
        "    print(b)"
      ]
    },
    {
      "cell_type": "markdown",
      "metadata": {
        "id": "_xiDrDj9_PAr"
      },
      "source": [
        "## Coding Challenge-2 : Group Anagrams\n",
        "\n",
        "Purpose of the this coding challenge is to solve a grouping algorithm in Python.\n",
        "\n",
        "### Learning Outcomes\n",
        "\n",
        "At the end of the this coding challenge, students will be able to;\n",
        "\n",
        "- get a basic understanding of grouping algorithms.\n",
        "- demonstrate their knowledge of lists, dicts in python\n",
        "- implement loops to solve the problems in python\n",
        "- get a better understanding of computational thinking concepts\n",
        "\n",
        "### Problem Statement\n",
        "  \n",
        "- Given a list of strings, group anagrams together.\n",
        "\n",
        "- Example:\n",
        "\n",
        "**Input:**\n",
        "```\n",
        "[\"eat\", \"tea\", \"tan\", \"ate\", \"nat\", \"bat\"],\n",
        "Output:\n",
        "[\n",
        "  [\"ate\",\"eat\",\"tea\"],\n",
        "  [\"nat\",\"tan\"],\n",
        "  [\"bat\"]\n",
        "]\n",
        "```\n",
        "Note:\n",
        "All inputs will be in lowercase.\n",
        "The order of your output does not matter."
      ]
    },
    {
      "cell_type": "markdown",
      "metadata": {
        "id": "0t3l2KXZ_PAr"
      },
      "source": [
        "### Solution :"
      ]
    },
    {
      "cell_type": "code",
      "execution_count": 26,
      "metadata": {
        "id": "j-JKHAmV_PAs"
      },
      "outputs": [
        {
          "name": "stdout",
          "output_type": "stream",
          "text": [
            "[['eat', 'tea', 'ate'], ['tan', 'nat'], ['bat'], ['cat', 'tac']]\n",
            "['aet', 'ant', 'abt', 'act']\n"
          ]
        }
      ],
      "source": [
        "strs = [\"eat\", \"tea\", \"tan\", \"ate\", \"nat\", \"bat\", \"cat\", \"tac\"]\n",
        "anag = {}\n",
        "for i in strs:\n",
        "    element = \"\".join(sorted(i))\n",
        "    if element in anag:\n",
        "        anag[element].append(i)\n",
        "    else:\n",
        "        anag[element] = [i]\n",
        "print(list(anag.values()))\n",
        "print(list(anag.keys()))"
      ]
    },
    {
      "cell_type": "code",
      "execution_count": null,
      "metadata": {
        "id": "UWqBr9Yt3DFU"
      },
      "outputs": [],
      "source": []
    },
    {
      "cell_type": "markdown",
      "metadata": {
        "id": "ck8dWx65Hl9v"
      },
      "source": [
        "## çözüm"
      ]
    },
    {
      "cell_type": "code",
      "execution_count": 29,
      "metadata": {
        "id": "qR8nrwaZEFqV"
      },
      "outputs": [
        {
          "name": "stdout",
          "output_type": "stream",
          "text": [
            "{'aet': ['eat', 'tea', 'ate'], 'ant': ['tan', 'nat'], 'abt': ['bat'], 'act': ['cat', 'tac']}\n",
            "['aet', 'ant', 'abt', 'act']\n",
            "[['eat', 'tea', 'ate'], ['tan', 'nat'], ['bat'], ['cat', 'tac']]\n",
            "[('aet', ['eat', 'tea', 'ate']), ('ant', ['tan', 'nat']), ('abt', ['bat']), ('act', ['cat', 'tac'])]\n"
          ]
        }
      ],
      "source": [
        "strs = [\"eat\", \"tea\", \"tan\", \"ate\", \"nat\", \"bat\", \"cat\", \"tac\"]\n",
        "\n",
        "empty_dic = {}\n",
        "for i in strs:\n",
        "  x = ''.join(sorted(i))\n",
        "  # print(i)\n",
        "  if x in empty_dic:\n",
        "    empty_dic[x].append(i)\n",
        "  else:\n",
        "    empty_dic[x] = [i]\n",
        "\n",
        "print(empty_dic)\n",
        "print(list(empty_dic))\n",
        "print(list(empty_dic.values()))\n",
        "print(list(empty_dic.items()))"
      ]
    },
    {
      "cell_type": "code",
      "execution_count": 27,
      "metadata": {
        "id": "9if-QrRRFf0p"
      },
      "outputs": [
        {
          "name": "stdout",
          "output_type": "stream",
          "text": [
            "{'1': 'kdfj'}\n"
          ]
        }
      ],
      "source": [
        "c = {}\n",
        "c[\"1\"] = \"kdfj\"\n",
        "print(c)"
      ]
    },
    {
      "cell_type": "code",
      "execution_count": 30,
      "metadata": {
        "id": "UUZpW-5dFxt1"
      },
      "outputs": [
        {
          "name": "stdout",
          "output_type": "stream",
          "text": [
            "{'aet': ['eat']}\n"
          ]
        }
      ],
      "source": [
        "c = {\"aet\":[]}\n",
        "c[\"aet\"].append(\"eat\")\n",
        "print(c)"
      ]
    },
    {
      "cell_type": "code",
      "execution_count": null,
      "metadata": {
        "id": "044ygkM_Haws"
      },
      "outputs": [],
      "source": []
    },
    {
      "cell_type": "markdown",
      "metadata": {
        "id": "xFXGH1kq_PAs"
      },
      "source": [
        "## Coding Challenge - 3: \n",
        "\n",
        "## *** This is an optional question - You don't have to solve this ***\n",
        "\n",
        "Calculating the Amount of Water to be Trapped on Terrain\n",
        "\n",
        "The purpose of this coding challenge is to write a program that calculates the amount of water that can be contained within the generated holes.\n",
        "\n",
        "### Learning Outcomes\n",
        "\n",
        "At the end of this coding challenge, students will be able to;\n",
        "\n",
        "- analyze a problem, identify, and apply programming knowledge for appropriate solution.\n",
        "\n",
        "- design, implement `while` loops effectively in Python to solve the given problem.\n",
        "\n",
        "- control loops effectively by using `if` and `control` statements.\n",
        "\n",
        "- demonstrate their knowledge of algorithmic design principles by using solving the problem effectively.\n",
        "\n",
        "### Problem Statement\n",
        "\n",
        "- Given an array of non-negative integers representing an elevation map as shown below where the width of each bar is 1, compute how much water will be trapped on terrain after raining. To clarify further, the black boxes represents terrain and its height, and the blue boxes represents the water that could be trapped on the terrain.\n",
        "\n",
        "<center><img src=\"https://raw.githubusercontent.com/andrewfade/myprojects/main/image.png\" /></center>\n",
        "\n",
        "- User can enter as many numbers as they want to represent elevation of the terrain.\n",
        "\n",
        "- You can assume all the inputs are valid, thus you don't have to do an input check.\n",
        "\n",
        "- At the end of the program write a comment that indicates which computational thinking heuristics you have used and how you used them.\n",
        "\n",
        "- Example of user inputs and respective outputs.\n",
        "\n",
        "```text\n",
        "Inputs\n",
        "------------------------------\n",
        "Type 'ok' when you are done: 5\n",
        "Type 'ok' when you are done: 4\n",
        "Type 'ok' when you are done: 5\n",
        "Type 'ok' when you are done: ok\n",
        "\n",
        "Output\n",
        "------\n",
        "1\n",
        "\n",
        "Inputs\n",
        "------------------------------\n",
        "Type 'ok' when you are done: 2\n",
        "Type 'ok' when you are done: 1\n",
        "Type 'ok' when you are done: 2\n",
        "Type 'ok' when you are done: 3\n",
        "Type 'ok' when you are done: 2\n",
        "Type 'ok' when you are done: 3\n",
        "Type 'ok' when you are done: ok\n",
        "\n",
        "Output\n",
        "------\n",
        "2\n",
        "\n",
        "Inputs\n",
        "------------------------------\n",
        "Type 'ok' when you are done: 6\n",
        "Type 'ok' when you are done: 5\n",
        "Type 'ok' when you are done: 8\n",
        "Type 'ok' when you are done: 9\n",
        "Type 'ok' when you are done: 2\n",
        "Type 'ok' when you are done: 4\n",
        "Type 'ok' when you are done: 3\n",
        "Type 'ok' when you are done: 6\n",
        "Type 'ok' when you are done: ok\n",
        "\n",
        "Output\n",
        "------\n",
        "10\n",
        "```"
      ]
    },
    {
      "cell_type": "markdown",
      "metadata": {
        "id": "AfSIWdNw_PAt"
      },
      "source": [
        "### Solution :"
      ]
    },
    {
      "cell_type": "code",
      "execution_count": null,
      "metadata": {
        "id": "KBM3K1-Z_PAt",
        "outputId": "15936325-4b35-4e7f-b9d0-803d1689f7a7"
      },
      "outputs": [
        {
          "name": "stdout",
          "output_type": "stream",
          "text": [
            "Type 'ok' when you are done: 4\n",
            "Type 'ok' when you are done: 3\n",
            "Type 'ok' when you are done: 6\n",
            "Type 'ok' when you are done: 0\n",
            "Type 'ok' when you are done: 1\n",
            "Type 'ok' when you are done: 0\n",
            "Type 'ok' when you are done: 2\n",
            "Type 'ok' when you are done: ok\n",
            "\n",
            "Rain-trapped area :  6\n"
          ]
        }
      ],
      "source": [
        "# initialize the list of an integer array representing the elevation, and set it to empty\n",
        "liste = []\n",
        "while True:\n",
        "    num = input(\"Type 'ok' when you are done: \")\n",
        "    if num != \"ok\":\n",
        "        liste.append(int(num))\n",
        "    else:\n",
        "        break\n",
        "\n",
        "        \n",
        "areas = 0\n",
        "\n",
        "max_l = max_r = 0\n",
        "\n",
        "l = 0\n",
        "r = len(liste)-1\n",
        "\n",
        "\n",
        "while l < r:\n",
        "\n",
        "    if liste[l] < liste[r]:########################## soldaki büyükse\n",
        "\n",
        "        if liste[l] > max_l:\n",
        "            max_l = liste[l]\n",
        "        else:\n",
        "            areas += max_l - liste[l]\n",
        "\n",
        "        l += 1\n",
        "  \n",
        "    else: ############################################## sağdaki büyükse\n",
        "\n",
        "        if liste[r] > max_r:\n",
        "            max_r = liste[r]\n",
        "        \n",
        "        else:\n",
        "            areas += max_r - liste[r]\n",
        "        \n",
        "\n",
        "        r -= 1\n",
        "\n",
        "# print the amount of water to be trapped\n",
        "print(\"\\nRain-trapped area : \", areas)"
      ]
    }
  ],
  "metadata": {
    "colab": {
      "collapsed_sections": [
        "jBSwuOJn_PAp",
        "_xiDrDj9_PAr",
        "ck8dWx65Hl9v"
      ],
      "name": "workshop-3_python_lead.ipynb",
      "provenance": []
    },
    "interpreter": {
      "hash": "43435a050d4ac362dc4b1b4851a0333547cf4819a4e47175b9a0f2919a9b0b1b"
    },
    "kernelspec": {
      "display_name": "Python 3.9.7 64-bit",
      "name": "python3"
    },
    "language_info": {
      "codemirror_mode": {
        "name": "ipython",
        "version": 3
      },
      "file_extension": ".py",
      "mimetype": "text/x-python",
      "name": "python",
      "nbconvert_exporter": "python",
      "pygments_lexer": "ipython3",
      "version": "3.9.7"
    }
  },
  "nbformat": 4,
  "nbformat_minor": 0
}
