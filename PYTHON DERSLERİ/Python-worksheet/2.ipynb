{
 "cells": [
  {
   "cell_type": "code",
   "execution_count": null,
   "metadata": {},
   "outputs": [],
   "source": []
  },
  {
   "cell_type": "code",
   "execution_count": null,
   "metadata": {},
   "outputs": [],
   "source": []
  },
  {
   "cell_type": "code",
   "execution_count": null,
   "metadata": {},
   "outputs": [],
   "source": []
  },
  {
   "cell_type": "code",
   "execution_count": null,
   "metadata": {},
   "outputs": [],
   "source": []
  },
  {
   "cell_type": "code",
   "execution_count": 3,
   "metadata": {},
   "outputs": [
    {
     "name": "stdout",
     "output_type": "stream",
     "text": [
      "{1, 2, 3, 4, 5, 7}\n"
     ]
    }
   ],
   "source": [
    "a = {1,2,3,4,5}\n",
    "a.add(7)\n",
    "print(a)"
   ]
  },
  {
   "cell_type": "markdown",
   "metadata": {},
   "source": [
    "yazılan sayılardan hangisi büyük bulan program..\n"
   ]
  },
  {
   "cell_type": "code",
   "execution_count": 1,
   "metadata": {},
   "outputs": [
    {
     "name": "stdout",
     "output_type": "stream",
     "text": [
      "let's find which number is great as your typed\n",
      "The great number is :  101\n"
     ]
    }
   ],
   "source": [
    "print(\"let's find which number is great as your typed\")\n",
    "i = 0 \n",
    "result = 0\n",
    "given= input(\"write ten numbers: \").split()\n",
    "\n",
    "while i < 10:\n",
    "    if int(given[i]) > result:\n",
    "        result = int(given[i])\n",
    "    i += 1       \n",
    "print(\"The great number is : \", result)\n",
    "    "
   ]
  },
  {
   "cell_type": "markdown",
   "metadata": {},
   "source": [
    "yazılan 10 numaradan hangisinin büyük olduğunu yazdıran program..\n"
   ]
  },
  {
   "cell_type": "code",
   "execution_count": 99,
   "metadata": {},
   "outputs": [
    {
     "name": "stdout",
     "output_type": "stream",
     "text": [
      "let's find which number is great from 50 as your typed\n",
      "The numbers are great from 50 :  [680, 510, 312, 988, 898, 765, 670, 600, 999, 561]\n"
     ]
    }
   ],
   "source": [
    "print(\"let's find which number is great from 50 as your typed\")\n",
    "i = 0 \n",
    "result = []\n",
    "given= input(\"write ten numbers: \").split()\n",
    "\n",
    "while i < 10:\n",
    "    if int(given[i]) > 50:\n",
    "        result.append(int(given[i]))\n",
    "    i += 1       \n",
    "print(\"The numbers are great from 50 : \", result)"
   ]
  },
  {
   "cell_type": "markdown",
   "metadata": {},
   "source": [
    "yazılan iki sayının arasında kalanları yazdırann program...\n"
   ]
  },
  {
   "cell_type": "code",
   "execution_count": 2,
   "metadata": {},
   "outputs": [
    {
     "name": "stdout",
     "output_type": "stream",
     "text": [
      "the numbers between you typed:  [11, 12, 13, 14, 15, 16, 17, 18, 19, 20, 21, 22, 23, 24, 25, 26, 27, 28, 29, 30, 31, 32, 33, 34, 35, 36, 37, 38, 39, 40, 41, 42, 43, 44, 45, 46, 47, 48, 49]\n"
     ]
    }
   ],
   "source": [
    "num1 = int(input(\"write a number: \"))\n",
    "num2 = int(input(\"write a number: \"))\n",
    "numbers = []\n",
    "while (num1 and num2) > 0:\n",
    "    if num1 < num2:\n",
    "        numbers = range(num1+1,num2)\n",
    "        print(\"the numbers between you typed: \", list(numbers))\n",
    "    if num1 > num2:\n",
    "        numbers = range(num2+1,num1)\n",
    "        print(\"the numbers between you typed: \", list(numbers))\n",
    "    break\n",
    "        "
   ]
  },
  {
   "cell_type": "markdown",
   "metadata": {},
   "source": [
    "iki sayının çarpım sonucunu toplam ile yapan program..\n"
   ]
  },
  {
   "cell_type": "code",
   "execution_count": 92,
   "metadata": {},
   "outputs": [
    {
     "name": "stdout",
     "output_type": "stream",
     "text": [
      "The total by using collection type is: 54\n"
     ]
    }
   ],
   "source": [
    "num1 = int(input(\"write a number: \"))\n",
    "num2 = int(input(\"write a number: \"))\n",
    "count = 0\n",
    "i = 1\n",
    "while num1 >= i:\n",
    "    count += num2\n",
    "    i += 1\n",
    "print(\"The total by using collection type is:\", count)"
   ]
  },
  {
   "cell_type": "markdown",
   "metadata": {},
   "source": [
    "faktöryel ancak hatalı oldu..\n"
   ]
  },
  {
   "cell_type": "code",
   "execution_count": 7,
   "metadata": {},
   "outputs": [
    {
     "name": "stdout",
     "output_type": "stream",
     "text": [
      "The factorial value of your number is :  1\n"
     ]
    }
   ],
   "source": [
    "num = int(input(\"write a number to find it's factorial value: \"))\n",
    "num2 = 1\n",
    "i = 1\n",
    "while num >=1:\n",
    "    num2 *= i\n",
    "    i += 1\n",
    "    break\n",
    "print(\"The factorial value of your number is : \", num2)\n",
    "\n",
    "\n"
   ]
  },
  {
   "cell_type": "markdown",
   "metadata": {},
   "source": [
    "Write a Python function that takes a sequence of numbers and determines whether all the numbers are different from each other.\n",
    "\n"
   ]
  },
  {
   "cell_type": "code",
   "execution_count": 13,
   "metadata": {},
   "outputs": [
    {
     "name": "stdout",
     "output_type": "stream",
     "text": [
      "Some of the numbers you write are same\n"
     ]
    }
   ],
   "source": [
    "given = input(\"write numbers simultaneously with using between space: \").split()\n",
    "yeni = set(given)\n",
    "if len(given) == len(yeni):\n",
    "    print(\"The numbers you write all are different\")\n",
    "else:\n",
    "    print(\"Some of the numbers you write are same\")"
   ]
  },
  {
   "cell_type": "markdown",
   "metadata": {},
   "source": [
    "GİRİLEN METNİN HARFLERİNİ ALT ALTA YAZDIRAN PROGRAM.."
   ]
  },
  {
   "cell_type": "code",
   "execution_count": 21,
   "metadata": {},
   "outputs": [
    {
     "name": "stdout",
     "output_type": "stream",
     "text": [
      "f\n",
      "i\n",
      "k\n",
      "r\n",
      "e\n",
      "t\n"
     ]
    }
   ],
   "source": [
    "sentence = input(\"please write a sentence you want : \")\n",
    "i = 0\n",
    "\n",
    "while i < len(sentence):\n",
    "    print(sentence[i])\n",
    "    i += 1\n",
    "    if i == len(sentence):\n",
    "        break\n",
    "    \n",
    "\n"
   ]
  },
  {
   "cell_type": "markdown",
   "metadata": {},
   "source": [
    "girilen sayının asal mı değil mi olduğunu bulalım..\n"
   ]
  },
  {
   "cell_type": "code",
   "execution_count": 4,
   "metadata": {},
   "outputs": [
    {
     "name": "stdout",
     "output_type": "stream",
     "text": [
      "15 is not a Prime Number\n"
     ]
    }
   ],
   "source": [
    "given = int(input(\"write a number that we will check if it is a Prime Number or not: \"))\n",
    "counter = 0\n",
    "for i in range(2, given):\n",
    "    if given % i == 0:\n",
    "        counter += 1\n",
    "        break\n",
    "if counter == 0:\n",
    "        print(f\"{given} is a Prime Number\")\n",
    "else:\n",
    "        print(f\"{given} is not a Prime Number\")\n",
    "        \n",
    "    \n"
   ]
  },
  {
   "cell_type": "markdown",
   "metadata": {},
   "source": [
    "VERİLEN SAYIYA KADAR OLAN ASAL SAYILARI YAZDIRAN PROGRAM.."
   ]
  },
  {
   "cell_type": "code",
   "execution_count": 4,
   "metadata": {},
   "outputs": [
    {
     "name": "stdout",
     "output_type": "stream",
     "text": [
      "Cyber Security\n"
     ]
    }
   ],
   "source": [
    "path = [\"Full Stack\", \"Aws-DevOps\", \"Data Science\", \"Cyber Security\"]\n",
    "from random import choice\n",
    "print(choice(path))"
   ]
  },
  {
   "cell_type": "code",
   "execution_count": 6,
   "metadata": {},
   "outputs": [
    {
     "data": {
      "text/plain": [
       "['Apples', 'Oranges', 'Bananas']"
      ]
     },
     "execution_count": 6,
     "metadata": {},
     "output_type": "execute_result"
    }
   ],
   "source": [
    "fruits = {'Apples': 5, 'Oranges': 3, 'Bananas': 4}\n",
    "fruit_names = [x for x in fruits.keys()]\n",
    "fruit_names"
   ]
  },
  {
   "cell_type": "code",
   "execution_count": 9,
   "metadata": {},
   "outputs": [
    {
     "name": "stdout",
     "output_type": "stream",
     "text": [
      "5\n",
      "6\n",
      "7\n",
      "8\n",
      "9\n",
      "10\n",
      "11\n",
      "12\n",
      "13\n"
     ]
    }
   ],
   "source": [
    "i = 5\n",
    "while True:\n",
    "    if i%0xe == 0:\n",
    "        break\n",
    "    print(i)\n",
    "    i += 1"
   ]
  },
  {
   "cell_type": "code",
   "execution_count": 10,
   "metadata": {},
   "outputs": [
    {
     "ename": "TypeError",
     "evalue": "'int' object is not subscriptable",
     "output_type": "error",
     "traceback": [
      "\u001b[1;31m---------------------------------------------------------------------------\u001b[0m",
      "\u001b[1;31mTypeError\u001b[0m                                 Traceback (most recent call last)",
      "\u001b[1;32m~\\AppData\\Local\\Temp/ipykernel_7048/895177686.py\u001b[0m in \u001b[0;36m<module>\u001b[1;34m\u001b[0m\n\u001b[0;32m      1\u001b[0m \u001b[0mx\u001b[0m \u001b[1;33m=\u001b[0m \u001b[1;34m'abcd'\u001b[0m\u001b[1;33m\u001b[0m\u001b[1;33m\u001b[0m\u001b[0m\n\u001b[0;32m      2\u001b[0m \u001b[1;32mfor\u001b[0m \u001b[0mi\u001b[0m \u001b[1;32min\u001b[0m \u001b[0mrange\u001b[0m\u001b[1;33m(\u001b[0m\u001b[0mlen\u001b[0m\u001b[1;33m(\u001b[0m\u001b[0mx\u001b[0m\u001b[1;33m)\u001b[0m\u001b[1;33m)\u001b[0m\u001b[1;33m:\u001b[0m\u001b[1;33m\u001b[0m\u001b[1;33m\u001b[0m\u001b[0m\n\u001b[1;32m----> 3\u001b[1;33m     \u001b[0mi\u001b[0m\u001b[1;33m[\u001b[0m\u001b[0mx\u001b[0m\u001b[1;33m]\u001b[0m\u001b[1;33m.\u001b[0m\u001b[0mupper\u001b[0m\u001b[1;33m(\u001b[0m\u001b[1;33m)\u001b[0m\u001b[1;33m\u001b[0m\u001b[1;33m\u001b[0m\u001b[0m\n\u001b[0m\u001b[0;32m      4\u001b[0m \u001b[0mprint\u001b[0m \u001b[1;33m(\u001b[0m\u001b[0mx\u001b[0m\u001b[1;33m)\u001b[0m\u001b[1;33m\u001b[0m\u001b[1;33m\u001b[0m\u001b[0m\n",
      "\u001b[1;31mTypeError\u001b[0m: 'int' object is not subscriptable"
     ]
    }
   ],
   "source": [
    "x = 'abcd'\n",
    "for i in range(len(x)):\n",
    "    i[x].upper()\n",
    "print (x)"
   ]
  },
  {
   "cell_type": "code",
   "execution_count": 13,
   "metadata": {},
   "outputs": [
    {
     "data": {
      "text/plain": [
       "[3, 2, 1]"
      ]
     },
     "execution_count": 13,
     "metadata": {},
     "output_type": "execute_result"
    }
   ],
   "source": [
    "k = [1, 2, 3]\n",
    "list(reversed(k))"
   ]
  },
  {
   "cell_type": "code",
   "execution_count": null,
   "metadata": {},
   "outputs": [],
   "source": []
  },
  {
   "cell_type": "code",
   "execution_count": null,
   "metadata": {},
   "outputs": [],
   "source": []
  },
  {
   "cell_type": "code",
   "execution_count": null,
   "metadata": {},
   "outputs": [],
   "source": []
  },
  {
   "cell_type": "code",
   "execution_count": null,
   "metadata": {},
   "outputs": [],
   "source": []
  },
  {
   "cell_type": "code",
   "execution_count": null,
   "metadata": {},
   "outputs": [],
   "source": []
  }
 ],
 "metadata": {
  "interpreter": {
   "hash": "43435a050d4ac362dc4b1b4851a0333547cf4819a4e47175b9a0f2919a9b0b1b"
  },
  "kernelspec": {
   "display_name": "Python 3.9.7 64-bit",
   "language": "python",
   "name": "python3"
  },
  "language_info": {
   "codemirror_mode": {
    "name": "ipython",
    "version": 3
   },
   "file_extension": ".py",
   "mimetype": "text/x-python",
   "name": "python",
   "nbconvert_exporter": "python",
   "pygments_lexer": "ipython3",
   "version": "3.9.7"
  },
  "orig_nbformat": 4
 },
 "nbformat": 4,
 "nbformat_minor": 2
}
