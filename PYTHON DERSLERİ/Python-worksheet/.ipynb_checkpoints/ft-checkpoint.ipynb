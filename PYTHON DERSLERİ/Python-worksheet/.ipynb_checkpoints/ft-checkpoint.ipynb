{
 "cells": [
  {
   "cell_type": "code",
   "execution_count": null,
   "metadata": {},
   "outputs": [],
   "source": [
    "x = \"asd\"\n",
    "print(x)"
   ]
  },
  {
   "cell_type": "code",
   "execution_count": 18,
   "metadata": {},
   "outputs": [
    {
     "name": "stdout",
     "output_type": "stream",
     "text": [
      "how many numbers you will write: 5\n",
      "write your numbers: 1 2 3 4 5\n"
     ]
    },
    {
     "data": {
      "text/plain": [
       "15"
      ]
     },
     "execution_count": 18,
     "metadata": {},
     "output_type": "execute_result"
    }
   ],
   "source": [
    "num = input(\"how many numbers you will write: \")\n",
    "given = list(map(int, input(\"write your numbers: \").split()))\n",
    "\n",
    "sum(given)\n",
    "    \n",
    "\n",
    "     \n",
    "     "
   ]
  },
  {
   "cell_type": "code",
   "execution_count": 17,
   "metadata": {},
   "outputs": [
    {
     "name": "stdout",
     "output_type": "stream",
     "text": [
      "write four sides number: 2 3 2 4\n",
      "the type of shape is TRAPEZOİD\n"
     ]
    }
   ],
   "source": [
    "sides = list(map(int, input(\"write four sides number: \").split()))\n",
    "\n",
    "if sides[0] == sides[1] == sides[2] == sides[3]:\n",
    "    print(\"the type of shape is CUBE\")\n",
    "elif sides[0] == sides[2] and sides[1] == sides[3]:\n",
    "    print(\"the type of shape is RECTANGLE\")\n",
    "elif (sides[0] == sides[2] or sides[1] == sides[3]):\n",
    "    print(\"the type of shape is TRAPEZOİD\")\n",
    "else:\n",
    "    print(\"the type of shape is any other things..!!\")"
   ]
  },
  {
   "cell_type": "code",
   "execution_count": 1,
   "metadata": {},
   "outputs": [
    {
     "name": "stdout",
     "output_type": "stream",
     "text": [
      "      1\n",
      "     1 2\n",
      "    1 2 3\n",
      "   1 2 3 4\n",
      "  1 2 3 4 5\n"
     ]
    }
   ],
   "source": [
    "num= int(input(\"\"))\n",
    "for i in range(1, num+1):\n",
    "    print(\" \" * (num+1 - i), *range(1,i+1))"
   ]
  },
  {
   "cell_type": "code",
   "execution_count": 7,
   "metadata": {},
   "outputs": [
    {
     "name": "stdout",
     "output_type": "stream",
     "text": [
      "*\n",
      "**\n",
      "***\n",
      "****\n",
      "*****\n",
      "******\n",
      "*******\n",
      "********\n",
      "*********\n",
      "**********\n"
     ]
    }
   ],
   "source": [
    "liste = int(input(\"how many numbers do your pyramid have: \"))\n",
    "for i in range (1, liste+1):\n",
    "    i *= \"*\"\n",
    "    print(i)"
   ]
  },
  {
   "cell_type": "code",
   "execution_count": 2,
   "metadata": {},
   "outputs": [],
   "source": [
    "count, fruit, price = (2, 'apple', 3.5)\n"
   ]
  },
  {
   "cell_type": "code",
   "execution_count": 8,
   "metadata": {},
   "outputs": [],
   "source": [
    "a = count, fruit, price"
   ]
  },
  {
   "cell_type": "code",
   "execution_count": 9,
   "metadata": {},
   "outputs": [
    {
     "data": {
      "text/plain": [
       "tuple"
      ]
     },
     "execution_count": 9,
     "metadata": {},
     "output_type": "execute_result"
    }
   ],
   "source": [
    "type(a)"
   ]
  },
  {
   "cell_type": "code",
   "execution_count": null,
   "metadata": {},
   "outputs": [],
   "source": []
  },
  {
   "cell_type": "code",
   "execution_count": null,
   "metadata": {},
   "outputs": [],
   "source": []
  },
  {
   "cell_type": "code",
   "execution_count": null,
   "metadata": {},
   "outputs": [],
   "source": []
  }
 ],
 "metadata": {
  "interpreter": {
   "hash": "43435a050d4ac362dc4b1b4851a0333547cf4819a4e47175b9a0f2919a9b0b1b"
  },
  "kernelspec": {
   "display_name": "Python 3",
   "language": "python",
   "name": "python3"
  },
  "language_info": {
   "codemirror_mode": {
    "name": "ipython",
    "version": 3
   },
   "file_extension": ".py",
   "mimetype": "text/x-python",
   "name": "python",
   "nbconvert_exporter": "python",
   "pygments_lexer": "ipython3",
   "version": "3.8.8"
  }
 },
 "nbformat": 4,
 "nbformat_minor": 2
}
