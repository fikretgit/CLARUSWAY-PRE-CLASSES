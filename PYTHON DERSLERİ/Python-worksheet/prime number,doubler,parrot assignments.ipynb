{
 "cells": [
  {
   "cell_type": "code",
   "execution_count": 5,
   "metadata": {},
   "outputs": [
    {
     "name": "stdout",
     "output_type": "stream",
     "text": [
      "[3, 5, 7, 9, 11, 13, 15, 17, 19, 21, 23, 25, 27, 29, 31, 33, 35, 37, 39, 41, 43, 45, 47, 49, 51, 53, 55, 57, 59, 61, 63, 65, 67, 69, 71, 73, 75, 77, 79, 81, 83, 85, 87, 89, 91, 93, 95, 97, 99]\n"
     ]
    }
   ],
   "source": [
    "n = 100\n",
    "list1 = []\n",
    "\n",
    "for i in range(2, n):\n",
    "    for j in range(2, n-1):\n",
    "        if i % j == 0:\n",
    "            break\n",
    "        else:\n",
    "            list1.append(i)\n",
    "            break\n",
    "print(list1)   "
   ]
  },
  {
   "cell_type": "code",
   "execution_count": null,
   "metadata": {},
   "outputs": [],
   "source": [
    "for var1 in range(2,20):\n",
    "    bol=True\n",
    "    for var2 in range(2,var1-1):\n",
    "        if(var1%var2==0):\n",
    "            print(var1, \"is not prime number\")\n",
    "            bol=False\n",
    "            break\n",
    "    if bol:\n",
    "        print(var1, \"is a prime number\")"
   ]
  },
  {
   "cell_type": "code",
   "execution_count": 9,
   "metadata": {},
   "outputs": [
    {
     "data": {
      "text/plain": [
       "12"
      ]
     },
     "execution_count": 9,
     "metadata": {},
     "output_type": "execute_result"
    }
   ],
   "source": [
    "# Assignment - 1 (Doubler)\n",
    "\n",
    "def sum_double(x, y):\n",
    "    toplam = x + y\n",
    "    if x == y:\n",
    "        toplam = 2 * toplam\n",
    "    return toplam\n",
    "sum_double(5, 7)"
   ]
  },
  {
   "cell_type": "code",
   "execution_count": 47,
   "metadata": {},
   "outputs": [
    {
     "name": "stdout",
     "output_type": "stream",
     "text": [
      "False\n"
     ]
    }
   ],
   "source": [
    "# Assignment - 2 (Parrot Trouble)\n",
    "\n",
    "def parrot_trouble(talking, hour):\n",
    "    if hour in range(0, 7):\n",
    "        return talking\n",
    "    elif hour in range(7, 22):\n",
    "        return not talking\n",
    "    else:\n",
    "        return talking\n",
    "    \n",
    "print(parrot_trouble(True, 8))"
   ]
  }
 ],
 "metadata": {
  "interpreter": {
   "hash": "43435a050d4ac362dc4b1b4851a0333547cf4819a4e47175b9a0f2919a9b0b1b"
  },
  "kernelspec": {
   "display_name": "Python 3.9.7 64-bit",
   "language": "python",
   "name": "python3"
  },
  "language_info": {
   "codemirror_mode": {
    "name": "ipython",
    "version": 3
   },
   "file_extension": ".py",
   "mimetype": "text/x-python",
   "name": "python",
   "nbconvert_exporter": "python",
   "pygments_lexer": "ipython3",
   "version": "3.9.7"
  },
  "orig_nbformat": 4
 },
 "nbformat": 4,
 "nbformat_minor": 2
}
