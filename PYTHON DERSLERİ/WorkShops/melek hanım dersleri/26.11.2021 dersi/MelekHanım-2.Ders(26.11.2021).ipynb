{
  "cells": [
    {
      "cell_type": "markdown",
      "metadata": {
        "id": "UO4WBUc0Wtse"
      },
      "source": [
        "                                Exercise-1\n",
        "\n",
        "Convert a Number to Base-2\n",
        "Create a function that returns a base-2 (binary) representation of a base-10 (decimal) string number. To convert is simple: ((2) means base-2 and (10) means base-10) 010101001(2) = 1 + 8 + 32 + 128.\n",
        "\n",
        "Going from right to left, the value of the most right bit is 1, now from that every bit to the left will be x2 the value, value of an 8 bit binary numbers are (256, 128, 64, 32, 16, 8, 4, 2, 1).\n",
        "\n",
        "Examples\n",
        "\n",
        "binary(1) ➞ \"1\"\n",
        "\n",
        "// 1 * 1 = 1\n",
        "\n",
        "binary(5) ➞ \"101\"\n",
        "\n",
        "// 1 * 1 + 1 * 4 = 5\n",
        "\n",
        "binary(10) ➞ \"1010\"\n",
        "\n",
        "// 1 * 2 + 1 * 8 = 10\n",
        "\n",
        "Note (Don't use bin() function)\n",
        "alınan sayı 2 ye bmlünüyor.. kalanları alıp yazıyoruz .. ta ki en sona kadar.. "
      ]
    },
    {
      "cell_type": "markdown",
      "metadata": {},
      "source": [
        "MELEK HANIMIN ÇÖZÜMLERİ ÜSTTE..!!"
      ]
    },
    {
      "cell_type": "code",
      "execution_count": 53,
      "metadata": {},
      "outputs": [
        {
          "data": {
            "text/plain": [
              "'101'"
            ]
          },
          "execution_count": 53,
          "metadata": {},
          "output_type": "execute_result"
        }
      ],
      "source": [
        "def binary(num):\n",
        "    bin= \"\"\n",
        "    while num != 0:\n",
        "        bin += str(num % 2)\n",
        "        num = num // 2\n",
        "    return bin[::-1]\n",
        "\n",
        "binary(5) \n",
        "        \n",
        "# alınan sayı 2 ye (binary) için bölünüyor ve her işlemde kalanlar tersten gelecek şekilde alınıyor...\n",
        "# en sond a 1 % 2 de 1 olduğu için 101 çıkıyor 2 de.. 5 bölü 2 kalan 1, 2 bölü 2 de kalan 1 oluyor, \n",
        "# ve en son 1 de 2 ye % ile 1 veriyor... tersten 1,0,1 i alıyor..\n",
        "        \n",
        "        \n",
        "        "
      ]
    },
    {
      "cell_type": "code",
      "execution_count": 54,
      "metadata": {},
      "outputs": [
        {
          "data": {
            "text/plain": [
              "'0b101'"
            ]
          },
          "execution_count": 54,
          "metadata": {},
          "output_type": "execute_result"
        }
      ],
      "source": [
        "bin(5) # kolay yolu.."
      ]
    },
    {
      "cell_type": "code",
      "execution_count": 13,
      "metadata": {
        "id": "2Ao5oWrUWpVY"
      },
      "outputs": [
        {
          "data": {
            "text/plain": [
              "338"
            ]
          },
          "execution_count": 13,
          "metadata": {},
          "output_type": "execute_result"
        }
      ],
      "source": [
        "num = input(\"\")\n",
        "\n",
        "\n",
        "def onluk_sistem(num):\n",
        "    x = len(num)\n",
        "    toplam = 0\n",
        "    for i in num:\n",
        "        toplam += int(i) * (2 ** x)\n",
        "        x -= 1\n",
        "    return toplam\n",
        "\n",
        "onluk_sistem(num)\n",
        "\n",
        "\n",
        "\n"
      ]
    },
    {
      "cell_type": "code",
      "execution_count": 10,
      "metadata": {},
      "outputs": [
        {
          "name": "stdout",
          "output_type": "stream",
          "text": [
            "0\n",
            "1\n",
            "0\n",
            "1\n",
            "0\n",
            "1\n",
            "0\n",
            "0\n",
            "1\n"
          ]
        }
      ],
      "source": [
        "x = \"010101001\"\n",
        "for i in x:\n",
        "    print(i)"
      ]
    },
    {
      "cell_type": "markdown",
      "metadata": {
        "id": "0nPBCPa6WxKP"
      },
      "source": [
        "                              Exercise-2 \n",
        "Check if One Array can be Nested in Another\n",
        "\n",
        "Create a function that returns true if the first array can be nested inside the second.\n",
        "\n",
        "arr1 can be nested inside arr2 if:\n",
        "\n",
        "arr1's min is greater than arr2's min.\n",
        "\n",
        "arr1's max is less than arr2's max.\n",
        "\n",
        "Examples\n",
        "\n",
        "canNest([1, 2, 3, 4], [0, 6]) ➞ True\n",
        "\n",
        "canNest([3, 1], [4, 0]) ➞ True\n",
        "\n",
        "canNest([9, 9, 8], [8, 9]) ➞ False\n",
        "\n",
        "canNest([1, 2, 3, 4], [2, 3]) ➞ False\n",
        "\n",
        "[ ]\n"
      ]
    },
    {
      "cell_type": "code",
      "execution_count": 57,
      "metadata": {},
      "outputs": [
        {
          "data": {
            "text/plain": [
              "True"
            ]
          },
          "execution_count": 57,
          "metadata": {},
          "output_type": "execute_result"
        }
      ],
      "source": [
        "def can_nest(arry1, arry2):\n",
        "    return min(arry1) > min(arry2) and max(arry1) < max(arry2) \n",
        "\n",
        "can_nest([1, 2, 3, 4], [0, 6])\n",
        "can_nest ([3, 1], [4, 0])\n",
        "\n",
        "# return de büyüktür veya küçüktür işlemi boolean sonuç verir..!!"
      ]
    },
    {
      "cell_type": "markdown",
      "metadata": {
        "id": "f9mSIheVW3kw"
      },
      "source": [
        "                                    Exercise-3\n",
        "Move Capital Letters to the Front\n",
        "\n",
        "Create a function that moves all capital letters to the front of a word.\n",
        "\n",
        "Examples\n",
        "\n",
        "cap_to_front(\"hApPy\") ➞ \"APhpy\"\n",
        "\n",
        "cap_to_front(\"moveMENT\") ➞ \"MENTmove\"\n",
        "\n",
        "cap_to_front(\"shOrtCAKE\") ➞ \"OCAKEshrt\""
      ]
    },
    {
      "cell_type": "code",
      "execution_count": 59,
      "metadata": {
        "id": "m9ehWO0HW7f7"
      },
      "outputs": [
        {
          "data": {
            "text/plain": [
              "'APhpy'"
            ]
          },
          "execution_count": 59,
          "metadata": {},
          "output_type": "execute_result"
        }
      ],
      "source": [
        "def cap_to_front(text):\n",
        "    new_text = \"\"\n",
        "    for i in text:\n",
        "        if i.isupper() :\n",
        "            new_text += i\n",
        "            text = text.replace(i,\"\")\n",
        "    return new_text + text\n",
        "\n",
        "cap_to_front(\"moveMENT\")\n",
        "cap_to_front(\"hApPy\")\n",
        "    \n",
        "    \n",
        "    \n",
        "    \n",
        "    "
      ]
    },
    {
      "cell_type": "code",
      "execution_count": 61,
      "metadata": {},
      "outputs": [
        {
          "data": {
            "text/plain": [
              "'APhpy'"
            ]
          },
          "execution_count": 61,
          "metadata": {},
          "output_type": "execute_result"
        }
      ],
      "source": [
        "# 2. çözüm\n",
        "def  cap_to_front(text):\n",
        "    return \"\".join([i for i in text if i.isupper()] + [j for j in text if j.islower()])\n",
        "\n",
        "cap_to_front(\"hApPy\")\n",
        "\n",
        "\n",
        "\n",
        "\n"
      ]
    },
    {
      "cell_type": "code",
      "execution_count": 6,
      "metadata": {},
      "outputs": [
        {
          "data": {
            "text/plain": [
              "'APhApPy'"
            ]
          },
          "execution_count": 6,
          "metadata": {},
          "output_type": "execute_result"
        }
      ],
      "source": [
        "word = input(\"\")\n",
        "büyük_harfler = \"ABCÇDEFGĞHIİJKLMNOÖPRSŞTUÜVYZ\"\n",
        "\n",
        "def büyükler_öne(word):\n",
        "    for i in word:\n",
        "        if i in büyük_harfler:\n",
        "# ne ile yer değiştirecem bulamadım.. replace,index ??            \n",
        "                \n",
        "            \n",
        "    return word\n",
        "\n",
        "büyükler_öne(word)\n",
        "        "
      ]
    },
    {
      "cell_type": "markdown",
      "metadata": {
        "id": "VIH8NS-1W7wl"
      },
      "source": [
        "                                  Exercise-4\n",
        "The Reverser!\n",
        "\n",
        "The \"Reverser\" takes a string as input and returns that string in reverse order, with the opposite case.\n",
        "\n",
        "Examples\n",
        "\n",
        "reverse(\"Hello World\") ➞ \"DLROw OLLEh\"\n",
        "\n",
        "reverse(\"ReVeRsE\") ➞ \"eSrEvEr\"\n",
        "\n",
        "reverse(\"Radar\") ➞ \"RADAr\"\n",
        "\n",
        "Notes\n",
        "\n",
        "There will be no punctuation(noktalama) in any of the test cases."
      ]
    },
    {
      "cell_type": "code",
      "execution_count": 69,
      "metadata": {},
      "outputs": [
        {
          "data": {
            "text/plain": [
              "'DLROw OLLEh'"
            ]
          },
          "execution_count": 69,
          "metadata": {},
          "output_type": "execute_result"
        }
      ],
      "source": [
        "def reverse(text):\n",
        "    return \"\".join([i.upper() if i.islower() else i.lower() for i in text[::-1]])\n",
        "\n",
        "reverse(\"Hello World\")"
      ]
    },
    {
      "cell_type": "code",
      "execution_count": 66,
      "metadata": {},
      "outputs": [
        {
          "data": {
            "text/plain": [
              "'eSrEvEr'"
            ]
          },
          "execution_count": 66,
          "metadata": {},
          "output_type": "execute_result"
        }
      ],
      "source": [
        "def reverse(text):\n",
        "    return text[::-1].swapcase()\n",
        "\n",
        "reverse(\"ReVeRsE\")"
      ]
    },
    {
      "cell_type": "code",
      "execution_count": 25,
      "metadata": {
        "id": "Iuvqb85DXAbe"
      },
      "outputs": [
        {
          "data": {
            "text/plain": [
              "'eSrEvEr'"
            ]
          },
          "execution_count": 25,
          "metadata": {},
          "output_type": "execute_result"
        }
      ],
      "source": [
        "metin = input(\"\")\n",
        "metin = metin.swapcase()\n",
        "def ters_çevir(metin):\n",
        "    return metin[::-1]\n",
        "\n",
        "ters_çevir(metin)\n",
        "\n",
        "\n"
      ]
    },
    {
      "cell_type": "code",
      "execution_count": 23,
      "metadata": {},
      "outputs": [
        {
          "data": {
            "text/plain": [
              "'terkif'"
            ]
          },
          "execution_count": 23,
          "metadata": {},
          "output_type": "execute_result"
        }
      ],
      "source": [
        "a = \"fikret\"\n",
        "a[::-1]"
      ]
    },
    {
      "cell_type": "markdown",
      "metadata": {
        "id": "bgeGq8lBXAxu"
      },
      "source": [
        "                                    Exercise-5\n",
        "Create a function that retrieves every number that is strictly larger than every number that follows it.\n",
        "Examples\n",
        "\n",
        "[3, 13, 11, 2, 1, 9, 5] ➞ [13, 11, 9, 5]\n",
        "\n",
        "13 is larger than all numbers to its right, etc.\n",
        "\n",
        "[5, 5, 5, 5, 5, 5] ➞ [5]\n",
        "\n",
        "Must be strictly larger.\n",
        "\n",
        "Always include the last number.\n",
        "\n",
        "[5, 9, 8, 7] ➞ [9, 8, 7]\n",
        "\n",
        "Notes\n",
        "\n",
        "The last number in an array is trivially strictly larger than all numbers that follow it (no numbers follow it)."
      ]
    },
    {
      "cell_type": "code",
      "execution_count": 73,
      "metadata": {},
      "outputs": [
        {
          "data": {
            "text/plain": [
              "[13, 11, 9, 5]"
            ]
          },
          "execution_count": 73,
          "metadata": {},
          "output_type": "execute_result"
        }
      ],
      "source": [
        "arry = [3, 13, 11, 2, 1, 9, 5]\n",
        "new_arry = []\n",
        "for i in range(0, len(arry)-1): # sonuncunun sağında bişey olmadığı için..\n",
        "    if all([arry[i] > j for j in arry[i+1:]]) == True:\n",
        "        new_arry.append(arry[i])\n",
        "\n",
        "new_arry + [arry[-1]]\n",
        "    \n",
        "\n",
        "\n",
        "\n"
      ]
    },
    {
      "cell_type": "code",
      "execution_count": 46,
      "metadata": {
        "id": "LEaGU0DcXBul"
      },
      "outputs": [
        {
          "data": {
            "text/plain": [
              "[13, 13, 13, 13, 13, 13, 11, 11, 11, 11, 11, 9, 9, 9, 9, 5, 5]"
            ]
          },
          "execution_count": 46,
          "metadata": {},
          "output_type": "execute_result"
        }
      ],
      "source": [
        "list = [3, 13, 11, 2, 1, 9, 5]\n",
        "\n",
        "def sırala(list):\n",
        "    \n",
        "    yeni = []\n",
        "    for i in list:\n",
        "        for j in list[:i-1]:\n",
        "            if i > j:\n",
        "                yeni.append(i)\n",
        "            \n",
        "            \n",
        "    return yeni\n",
        "        \n",
        "\n",
        "sırala(list)\n",
        "\n",
        "\n",
        "\n"
      ]
    },
    {
      "cell_type": "markdown",
      "metadata": {
        "id": "ydJC7lTMXCH1"
      },
      "source": [
        "                                    Exercise - 6\n",
        "C * ns * r * d Str * ngs\n",
        "\n",
        "Someone has attempted to censor my strings by replacing every vowel with a *, l*k* th*s. Luckily, I've been able to find the vowels that were removed.\n",
        "\n",
        "Given a censored string and a string of the censored vowels, return the original uncensored string.\n",
        "\n",
        "Example\n",
        "\n",
        "uncensor(\"Wh * r * d * d my v * w * ls g * ?\", \"eeioeo\") ➞ \"Where did my vowels go?\"\n",
        "\n",
        "uncensor(\"abcd\", \"\") ➞ \"abcd\"\n",
        "\n",
        "uncensor(\"* PP * RC * S * \", \"UEAE\") ➞ \"UPPERCASE\"\n",
        "\n",
        "Notes\n",
        "\n",
        "The vowels are given in the correct order.\n",
        "\n",
        "The number of vowels will match the number of * characters in the censored string."
      ]
    },
    {
      "cell_type": "code",
      "execution_count": 75,
      "metadata": {
        "id": "MoUpvXSEXFmL"
      },
      "outputs": [
        {
          "data": {
            "text/plain": [
              "'Where did my vowels go?'"
            ]
          },
          "execution_count": 75,
          "metadata": {},
          "output_type": "execute_result"
        }
      ],
      "source": [
        "def uncensor(string, vowel):\n",
        "    indeks = 0\n",
        "    new_string = \"\"\n",
        "    for i in string:\n",
        "        if i == \"*\":\n",
        "            new_string += vowel[indeks]\n",
        "            indeks += 1\n",
        "        else:\n",
        "            new_string += i\n",
        "    return new_string\n",
        "\n",
        "uncensor(\"Wh*r* d*d my v*w*ls g*?\", \"eeioeo\")\n",
        "    \n",
        "    \n",
        "    \n",
        "    \n",
        "    "
      ]
    },
    {
      "cell_type": "markdown",
      "metadata": {
        "id": "5HeJI99aXF2r"
      },
      "source": [
        "                                    Exercise -7\n",
        "                                    \n",
        "There is a string, s , of lowercase English letters that is repeated infinitely many times. Given an integer, n , find and print the number of letter a's in the first n letters of the infinite string.\n",
        "\n",
        "Example\n",
        "s = \"abcac\"\n",
        "\n",
        "n = 10\n",
        "\n",
        "The substring we consider is \"abcacabcac\", the first 10 characters of the infinite string. There are 4  occurrences of a in the substring."
      ]
    },
    {
      "cell_type": "code",
      "execution_count": 77,
      "metadata": {
        "id": "M7_acFlkXPLe"
      },
      "outputs": [
        {
          "data": {
            "text/plain": [
              "5"
            ]
          },
          "execution_count": 77,
          "metadata": {},
          "output_type": "execute_result"
        }
      ],
      "source": [
        "def repeatedstring(s, n):\n",
        "    return (s * (n // len(s)) + s[0:n%len(s)]).count(\"a\")\n",
        "\n",
        "repeatedstring(\"abcac\", 12)"
      ]
    },
    {
      "cell_type": "code",
      "execution_count": null,
      "metadata": {},
      "outputs": [],
      "source": [
        "# diğer çözüm..\n",
        "def a_counter(text, n):\n",
        "    x = n // len(text) + 1\n",
        "\n",
        "\n"
      ]
    },
    {
      "cell_type": "markdown",
      "metadata": {
        "id": "G6s3c68YXPdV"
      },
      "source": [
        "                                Exercise -8\n",
        "Nearest Vowel\n",
        "\n",
        "Given a letter, created a function which returns the nearest vowel to the letter. If two vowels are equidistant to the given letter, return the earlier vowel.\n",
        "\n",
        "Examples\n",
        "\n",
        "nearestVowel(\"b\") ➞ \"a\"\n",
        "\n",
        "nearestVowel(\"s\") ➞ \"u\"\n",
        "\n",
        "nearestVowel(\"c\") ➞ \"a\"\n",
        "\n",
        "nearestVowel(\"i\") ➞ \"i\"\n",
        "\n",
        "Notes\n",
        "\n",
        "All letters will be given in lowercase.\n",
        "\n",
        "There will be no alphabet wrapping involved, meaning the closest vowel to \"z\" should return \"u\", not \"a\"."
      ]
    },
    {
      "cell_type": "code",
      "execution_count": 78,
      "metadata": {},
      "outputs": [
        {
          "data": {
            "text/plain": [
              "'u'"
            ]
          },
          "execution_count": 78,
          "metadata": {},
          "output_type": "execute_result"
        }
      ],
      "source": [
        "def nearestvowel(string):\n",
        "    vowel = \"aeiou\"\n",
        "    order = [abs(ord(i) - ord(string)) for i in vowel] # abs mutlak değeri oluyor..\n",
        "    return vowel[order.index(min(order))]\n",
        "\n",
        "nearestvowel(\"w\")"
      ]
    },
    {
      "cell_type": "code",
      "execution_count": 79,
      "metadata": {},
      "outputs": [
        {
          "data": {
            "text/plain": [
              "'u'"
            ]
          },
          "execution_count": 79,
          "metadata": {},
          "output_type": "execute_result"
        }
      ],
      "source": [
        "def near(letter):\n",
        "    return sorted(\"aeiou\", key = lambda x: abs(ord(letter) - ord(x)))[0]\n",
        "\n",
        "near(\"z\")"
      ]
    },
    {
      "cell_type": "markdown",
      "metadata": {},
      "source": [
        "FİBONACCI NUMBERS\n"
      ]
    },
    {
      "cell_type": "code",
      "execution_count": 5,
      "metadata": {},
      "outputs": [
        {
          "name": "stdout",
          "output_type": "stream",
          "text": [
            "[1, 1, 2, 3, 5, 8, 13, 21, 34, 55]\n"
          ]
        }
      ],
      "source": [
        "fibonacci = [1]\n",
        "listem = [0,1]\n",
        "sayaç = 1\n",
        "\n",
        "while fibonacci[-1] <= 55:\n",
        "    sayı = listem[sayaç - 1] + listem[sayaç]\n",
        "    listem.append(sayı)\n",
        "    fibonacci.append(sayı)\n",
        "    sayaç += 1\n",
        "    if sayı == 55:\n",
        "        break\n",
        "    \n",
        "print(fibonacci)\n",
        "    \n"
      ]
    },
    {
      "cell_type": "code",
      "execution_count": 17,
      "metadata": {},
      "outputs": [
        {
          "ename": "KeyboardInterrupt",
          "evalue": "",
          "output_type": "error",
          "traceback": [
            "\u001b[1;31m---------------------------------------------------------------------------\u001b[0m",
            "\u001b[1;31mKeyboardInterrupt\u001b[0m                         Traceback (most recent call last)",
            "\u001b[1;32m~\\AppData\\Local\\Temp/ipykernel_484/1274734594.py\u001b[0m in \u001b[0;36m<module>\u001b[1;34m\u001b[0m\n\u001b[0;32m      2\u001b[0m \u001b[0mfibonacci\u001b[0m \u001b[1;33m=\u001b[0m \u001b[1;33m[\u001b[0m\u001b[1;36m1\u001b[0m\u001b[1;33m]\u001b[0m\u001b[1;33m\u001b[0m\u001b[1;33m\u001b[0m\u001b[0m\n\u001b[0;32m      3\u001b[0m \u001b[1;32mwhile\u001b[0m \u001b[0mfibonacci\u001b[0m\u001b[1;33m[\u001b[0m\u001b[1;33m-\u001b[0m\u001b[1;36m1\u001b[0m\u001b[1;33m]\u001b[0m \u001b[1;33m<=\u001b[0m \u001b[1;36m55\u001b[0m\u001b[1;33m:\u001b[0m\u001b[1;33m\u001b[0m\u001b[1;33m\u001b[0m\u001b[0m\n\u001b[1;32m----> 4\u001b[1;33m     \u001b[1;32mdef\u001b[0m \u001b[0mfibonacci_number\u001b[0m\u001b[1;33m(\u001b[0m\u001b[1;33m)\u001b[0m\u001b[1;33m:\u001b[0m\u001b[1;33m\u001b[0m\u001b[1;33m\u001b[0m\u001b[0m\n\u001b[0m\u001b[0;32m      5\u001b[0m         \u001b[0mcounter\u001b[0m \u001b[1;33m=\u001b[0m \u001b[1;36m1\u001b[0m\u001b[1;33m\u001b[0m\u001b[1;33m\u001b[0m\u001b[0m\n\u001b[0;32m      6\u001b[0m         \u001b[0mtoplam\u001b[0m \u001b[1;33m=\u001b[0m \u001b[0mlist1\u001b[0m\u001b[1;33m[\u001b[0m\u001b[1;36m0\u001b[0m\u001b[1;33m]\u001b[0m \u001b[1;33m+\u001b[0m \u001b[0mlist1\u001b[0m\u001b[1;33m[\u001b[0m\u001b[0mcounter\u001b[0m\u001b[1;33m]\u001b[0m\u001b[1;33m\u001b[0m\u001b[1;33m\u001b[0m\u001b[0m\n",
            "\u001b[1;31mKeyboardInterrupt\u001b[0m: "
          ]
        }
      ],
      "source": [
        "list1 = [0,1]\n",
        "fibonacci = [1]\n",
        "\n",
        "def fibonacci_number():\n",
        "    counter = 1\n",
        "    toplam = list1[0] + list1[counter]\n",
        "    fibonacci.append(toplam)\n",
        "    list1.append(toplam)\n",
        "    counter += 1\n",
        "    return fibonacci\n",
        "    \n",
        "fibonacci_number()"
      ]
    }
  ],
  "metadata": {
    "colab": {
      "name": "workshop-26.11.ipynb",
      "provenance": []
    },
    "kernelspec": {
      "display_name": "Python 3",
      "name": "python3"
    },
    "language_info": {
      "codemirror_mode": {
        "name": "ipython",
        "version": 3
      },
      "file_extension": ".py",
      "mimetype": "text/x-python",
      "name": "python",
      "nbconvert_exporter": "python",
      "pygments_lexer": "ipython3",
      "version": "3.9.7"
    }
  },
  "nbformat": 4,
  "nbformat_minor": 0
}
