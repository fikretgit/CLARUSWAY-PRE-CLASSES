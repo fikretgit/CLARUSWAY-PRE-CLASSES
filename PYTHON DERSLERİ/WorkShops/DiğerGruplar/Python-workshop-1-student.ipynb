{
 "cells": [
  {
   "cell_type": "markdown",
   "metadata": {},
   "source": [
    "<center><img src=\"https://github.com/aaron-clarusway/fullstack/blob/master/itf-logo.png?raw=true\"  alt=\"alt text\" width=\"200\"/></center>\n",
    "<br>\n",
    "<h1><p style=\"text-align: center; color:darkblue\">Python Basic</p><h1>\n",
    "<center><h1>Workshop - 1</h1></center>\n",
    "<p><img align=\"right\"\n",
    "  src=\"https://secure.meetupstatic.com/photos/event/3/1/b/9/600_488352729.jpeg\"  width=\"15px\"></p>\n",
    "<br>\n",
    "\n",
    "\n",
    "# Subject: Basic Data Types and Useful Operations\n",
    "\n",
    "## Learning Goals\n",
    "\n",
    "* to work with quotes in strings,\n",
    "* to practice basic data types,\n",
    "* to consolidate basic boolean operations."
   ]
  },
  {
   "cell_type": "markdown",
   "metadata": {},
   "source": [
    "### Problem 1\n",
    "\n",
    "Write a program that multiplies three numbers entered by the user. Print the output with the format method."
   ]
  },
  {
   "cell_type": "code",
   "execution_count": 2,
   "metadata": {},
   "outputs": [
    {
     "name": "stdout",
     "output_type": "stream",
     "text": [
      "3*4*5 = 60\n",
      "60 = 3*4*5\n"
     ]
    }
   ],
   "source": [
    "a = int(input(\"a:\"))\n",
    "b = int(input(\"b:\"))\n",
    "c = int(input(\"c:\"))\n",
    "\n",
    "output = a * b * c\n",
    "\n",
    "print(\"{}*{}*{} = {}\".format(a, b, c, output))\n",
    "print(f\"{output} = {a}*{b}*{c}\")"
   ]
  },
  {
   "cell_type": "markdown",
   "metadata": {},
   "source": [
    "### Problem 2\n",
    "\n",
    "Write a program that calculates body mass index from **height** and **weight** entered by the user. \n",
    "\n",
    "Body mass index :  Weight / Height(m) * Height(m)"
   ]
  },
  {
   "cell_type": "code",
   "execution_count": 1,
   "metadata": {},
   "outputs": [
    {
     "name": "stdout",
     "output_type": "stream",
     "text": [
      "Body mass index: 24.61810377477591\n"
     ]
    }
   ],
   "source": [
    "height = float(input(\"Enter your height (example: 1.85):\"))\n",
    "weight = int(input(\"Enter your weight (example:75):\"))\n",
    "\n",
    "print(\"Body mass index:\", weight / (height ** 2))"
   ]
  },
  {
   "cell_type": "markdown",
   "metadata": {},
   "source": [
    "### Problem 3\n",
    "\n",
    "With your $ 200, how many pieces of material can you get for $ 11 each? How much money do you have left after buying?"
   ]
  },
  {
   "cell_type": "code",
   "execution_count": 4,
   "metadata": {},
   "outputs": [
    {
     "ename": "SyntaxError",
     "evalue": "EOL while scanning string literal (Temp/ipykernel_10328/2252699087.py, line 6)",
     "output_type": "error",
     "traceback": [
      "\u001b[1;36m  File \u001b[1;32m\"C:\\Users\\acer\\AppData\\Local\\Temp/ipykernel_10328/2252699087.py\"\u001b[1;36m, line \u001b[1;32m6\u001b[0m\n\u001b[1;33m    print(\"With your ${}, {} pieces of material you can get for ${} each. The remaining money is ${}\".format(totalMoney, piece, materialPrice, remaingMoney\")\u001b[0m\n\u001b[1;37m                                                                                                                                                             ^\u001b[0m\n\u001b[1;31mSyntaxError\u001b[0m\u001b[1;31m:\u001b[0m EOL while scanning string literal\n"
     ]
    }
   ],
   "source": [
    "totalMoney = 200\n",
    "materialPrice = 11\n",
    "piece = 200 // 11\n",
    "remainingMoney = totalMoney % piece\n",
    "\n",
    "print(\"With your ${}, {} pieces of material you can get for ${} each. The remaining money is ${}\".format(totalMoney, piece, materialPrice, remaingMoney\")"
   ]
  },
  {
   "cell_type": "markdown",
   "metadata": {},
   "source": [
    "### Problem 4\n",
    "\n",
    "Ask the user for two numbers and assign these numbers to variables and replace the values of these variables with each other."
   ]
  },
  {
   "cell_type": "code",
   "execution_count": 8,
   "metadata": {},
   "outputs": [
    {
     "name": "stdout",
     "output_type": "stream",
     "text": [
      "Variables After Replacing\n",
      "a= 5 b= 2\n"
     ]
    }
   ],
   "source": [
    "a = 2\n",
    "b = 5\n",
    "\n",
    "\n",
    "\n",
    "print(\"Variables After Replacing\\na= {} b= {}\".format(b, a))\n"
   ]
  },
  {
   "cell_type": "markdown",
   "metadata": {},
   "source": [
    "### Problem 5\n",
    "\n",
    "Write a Python program to solve (x - y) * (x + y)."
   ]
  },
  {
   "cell_type": "code",
   "execution_count": 10,
   "metadata": {},
   "outputs": [
    {
     "name": "stdout",
     "output_type": "stream",
     "text": [
      "(4 ^ 2 - 3 ^2) = 7\n"
     ]
    }
   ],
   "source": [
    "x ,y = 4, 3\n",
    "result = x * x - y * y\n",
    "print(\"({} ^ 2 - {} ^2) = {}\".format(x, y, result))\n"
   ]
  },
  {
   "cell_type": "markdown",
   "metadata": {},
   "source": [
    "### Problem 6\n",
    "\n",
    "Get **word**, **seperator** and **repetition** values from the user and print the word on the screen according to the given values. \n",
    "\n",
    "Ex: ``word = ali, sep = /, repetition = 3`` ----> ``ali/ali/ali``"
   ]
  },
  {
   "cell_type": "code",
   "execution_count": 12,
   "metadata": {},
   "outputs": [
    {
     "name": "stdout",
     "output_type": "stream",
     "text": [
      "fikret/fikret/fikret/fikret\n"
     ]
    }
   ],
   "source": [
    "word = input(\"word: \")\n",
    "seperator = input(\"seperator: \")\n",
    "repetitions = int(input(\"repetitions: \"))\n",
    "a = (word + seperator) * (repetitions - 1) + word # henry/ * 2 = henry/henry/henry\n",
    "print(a) # -1 i silip repe den sonra + \"\\b\" yazılırsa son karakter silinir"
   ]
  },
  {
   "cell_type": "markdown",
   "metadata": {},
   "source": [
    "### Problem 9\n",
    "\n",
    ">Do not run the code, try to figure out in your mind.\n",
    "\n",
    "What will be the output of the following syntax :\n",
    "\n",
    "```python\n",
    "print(\"clarusway\" and 0 and not \"\" and False and (\" \" or None))\n",
    "```"
   ]
  },
  {
   "cell_type": "markdown",
   "metadata": {},
   "source": [
    "### Problem 7\n",
    "\n",
    ">Do not run the code, try to figure out in your mind.\n",
    "\n",
    "What will be the output of the following syntax :\n",
    "\n",
    "```python\n",
    "print(True and False and (not True and False) and not (True or False))\n",
    "```"
   ]
  },
  {
   "cell_type": "code",
   "execution_count": null,
   "metadata": {},
   "outputs": [],
   "source": []
  },
  {
   "cell_type": "markdown",
   "metadata": {},
   "source": [
    "### Problem 8\n",
    "\n",
    ">Do not run the code, try to figure out in your mind.\n",
    "\n",
    "What will be the output of the following syntax :\n",
    "\n",
    "```python\n",
    "print(True and False and not \"False\" and None and (\"None\" or None))\n",
    "```"
   ]
  },
  {
   "cell_type": "code",
   "execution_count": 15,
   "metadata": {},
   "outputs": [
    {
     "name": "stdout",
     "output_type": "stream",
     "text": [
      "toplam: 18\n"
     ]
    }
   ],
   "source": [
    "# 1-) Kullanıcın girdiği 5 basamaklı bir sayının, basamaklarının toplamını ekrana yazdıran python kodlarını yazınız?\n",
    "sayi=input(\"sayi gir: \")\n",
    "\n",
    "\n",
    "x = int(sayi)\n",
    "if len(str(x)) == 5:\n",
    "   #sayıyı basamaklarına ayırıp, ayrı ayrı değişkenlere atama yaparak her bir değişkeni topluyoruz\n",
    "   bir = x % 10\n",
    "   x = str(x)\n",
    "   x = x[:-1]\n",
    "   x = int(x)\n",
    "   on = x % 10\n",
    "   x = str(x)\n",
    "   x = x[:-1]\n",
    "   x = int(x)\n",
    "   yuz = x % 10\n",
    "   x = str(x)\n",
    "   x = x[:-1]\n",
    "   x = int(x)\n",
    "   bin = x % 10\n",
    "   x = str(x)\n",
    "   x = x[:-1]\n",
    "   x = int(x)\n",
    "   onbin = x % 10\n",
    "   print(\"toplam:\",bir+on + yuz + bin+onbin)\n",
    "else:\n",
    "   print(\"Girdiginiz deger 5 basamakli degil\")"
   ]
  },
  {
   "cell_type": "code",
   "execution_count": 35,
   "metadata": {},
   "outputs": [
    {
     "name": "stdout",
     "output_type": "stream",
     "text": [
      "[65, 25, 12]\n",
      "büyük sayı ile ortadaki sayının farkı= 40\n",
      "küçük sayı ile ortadaki sayının farkı= 13\n"
     ]
    }
   ],
   "source": [
    "# Klavyeden kullanıcının girdiği 3 adet integer türünde ki sayıyı büyükten küçüğe sıralayarak ortadaki sayı ile büyük olan sayının arasındaki farkı ve yine ortadaki sayı ile küçük olan sayı arasındaki farkı ekrana yazdıran python kodlarını yazınız?\n",
    "#gencyazilimci\n",
    "mylist = []\n",
    "while True:\n",
    "   mylist.append(int(input(\"değer girniz:\")))\n",
    "   if (len(mylist) >= 3):\n",
    "       break\n",
    "mylist.sort()\n",
    "mylist.reverse()\n",
    "print(mylist)\n",
    "print(\"büyük sayı ile ortadaki sayının farkı=\",max(mylist) - mylist[1])\n",
    "print(\"küçük sayı ile ortadaki sayının farkı=\", mylist[1] - min(mylist))\n",
    "   "
   ]
  },
  {
   "cell_type": "code",
   "execution_count": null,
   "metadata": {},
   "outputs": [],
   "source": [
    "# Rastgele 600 adet 0 ile 1000 arasında sayı oluşturup bir liste içerisine aktaran ve 100’den küçük olan sayıların adedini ekrana yazdıran python kodlarını yazınız?\n",
    "import random\n",
    "mylist = []\n",
    "for i in range(600):\n",
    "   ekle=random.randint(0, 1000)\n",
    "   if (ekle < 100):\n",
    "       liste.append(ekle)\n",
    "adet=len(liste)\n",
    "print(\"100 den küçük olan sayıların listesi: \\n\",liste)\n",
    "print(\"100 den küçük olan {0} adet\".format(adet))\n"
   ]
  },
  {
   "cell_type": "code",
   "execution_count": 19,
   "metadata": {},
   "outputs": [
    {
     "name": "stdout",
     "output_type": "stream",
     "text": [
      "eşit değil- 1\n",
      "eşit değil- 2\n",
      "eşit değil- 3\n",
      "eşit değil- 4\n",
      "eşit değil- 5\n",
      "eşit değil- 6\n",
      "eşit değil- 7\n",
      "eşit değil- 8\n",
      "eşit değil- 9\n",
      "eşit değil- 10\n",
      "eşit değil- 11\n",
      "eşit değil- 12\n",
      "eşit değil- 13\n",
      "eşit değil- 14\n",
      "eşit değil- 15\n",
      "eşit değil- 16\n",
      "eşit değil- 17\n",
      "eşit değil- 18\n",
      "eşit değil- 19\n",
      "eşit değil- 20\n",
      "eşit değil- 21\n",
      "eşit değil- 22\n",
      "eşit değil- 23\n",
      "eşit değil- 24\n",
      "eşit değil- 25\n"
     ]
    }
   ],
   "source": [
    "# Kullanıcının girdiği iki birbirine eşit ise ekrana “5” sonucu yazdıracak, eşit değil ise 25 defa “eşit değil” sonucunu ekrana yazdıran python kodlarını yazınız? (while döngüsü ile yapılacaktır)\n",
    "sayı1 = int(input(\"ekle:\"))\n",
    "sayı2 = int(input(\"ekle:\"))\n",
    "while (sayı1 == sayı2):\n",
    "    print(\"5\")\n",
    "    break\n",
    "else:\n",
    "    for x in range(1,26):\n",
    "        print(\"eşit değil-\", x)\n"
   ]
  },
  {
   "cell_type": "code",
   "execution_count": 28,
   "metadata": {},
   "outputs": [
    {
     "name": "stdout",
     "output_type": "stream",
     "text": [
      "2\n"
     ]
    }
   ],
   "source": [
    "# Kullanıcının girdiği iki sayı birbirine eşitse bu sayının 4’de göre modunu alıp ekrana yazdıran python kodlarını yazınız?\n",
    "sayı1 = int(input(\"değer giriniz:\"))\n",
    "sayı2 = int(input(\"değer giriniz:\"))\n",
    "while (sayı1 == sayı2):\n",
    "    print(sayı1 %4)\n",
    "    break\n",
    "# 54 girdim örnek"
   ]
  },
  {
   "cell_type": "code",
   "execution_count": null,
   "metadata": {},
   "outputs": [],
   "source": []
  },
  {
   "cell_type": "code",
   "execution_count": null,
   "metadata": {},
   "outputs": [],
   "source": []
  },
  {
   "cell_type": "code",
   "execution_count": null,
   "metadata": {},
   "outputs": [],
   "source": []
  },
  {
   "cell_type": "code",
   "execution_count": null,
   "metadata": {},
   "outputs": [],
   "source": []
  },
  {
   "cell_type": "code",
   "execution_count": null,
   "metadata": {},
   "outputs": [],
   "source": []
  },
  {
   "cell_type": "code",
   "execution_count": null,
   "metadata": {},
   "outputs": [],
   "source": []
  }
 ],
 "metadata": {
  "interpreter": {
   "hash": "e64f71a9afba1a7dd11c6344fd0d09aa6e85e2e721e9ab5ed1f0218b8fff2b06"
  },
  "kernelspec": {
   "display_name": "Python 3.9.7 64-bit (windows store)",
   "name": "python3"
  },
  "language_info": {
   "codemirror_mode": {
    "name": "ipython",
    "version": 3
   },
   "file_extension": ".py",
   "mimetype": "text/x-python",
   "name": "python",
   "nbconvert_exporter": "python",
   "pygments_lexer": "ipython3",
   "version": "3.9.7"
  }
 },
 "nbformat": 4,
 "nbformat_minor": 2
}
