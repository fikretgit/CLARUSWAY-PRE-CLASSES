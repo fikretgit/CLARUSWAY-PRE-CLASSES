{
 "cells": [
  {
   "cell_type": "markdown",
   "metadata": {
    "id": "DpXjn6Vd9Yw6"
   },
   "source": [
    "1- Write a program to prompt for a score between 0.0 and 1.0. If the score is out of range, print an error. If the score is between 0.0 and 1.0, print a grade using the following table: Score Grade\n",
    "\n",
    "0.9 A\n",
    "\n",
    "0.8 B\n",
    "\n",
    "0.7 C\n",
    "\n",
    "0.6 D\n",
    "\n",
    "0.6 F\n",
    "\n",
    "If the user enters a value out of range, print a suitable error message and exit. For the test, enter a score of 0.85"
   ]
  },
  {
   "cell_type": "code",
   "execution_count": 157,
   "metadata": {},
   "outputs": [
    {
     "ename": "ValueError",
     "evalue": "could not convert string to float: ''",
     "output_type": "error",
     "traceback": [
      "\u001b[1;31m---------------------------------------------------------------------------\u001b[0m",
      "\u001b[1;31mValueError\u001b[0m                                Traceback (most recent call last)",
      "\u001b[1;32m~\\AppData\\Local\\Temp/ipykernel_11760/1920209475.py\u001b[0m in \u001b[0;36m<module>\u001b[1;34m\u001b[0m\n\u001b[1;32m----> 1\u001b[1;33m \u001b[0muser\u001b[0m \u001b[1;33m=\u001b[0m \u001b[0mfloat\u001b[0m\u001b[1;33m(\u001b[0m\u001b[0minput\u001b[0m\u001b[1;33m(\u001b[0m\u001b[1;34m\"write your score between 0.0 - 1.0: \"\u001b[0m\u001b[1;33m)\u001b[0m\u001b[1;33m)\u001b[0m\u001b[1;33m\u001b[0m\u001b[1;33m\u001b[0m\u001b[0m\n\u001b[0m\u001b[0;32m      2\u001b[0m \u001b[1;31m# if i in range(0.0, 1.0):\u001b[0m\u001b[1;33m\u001b[0m\u001b[1;33m\u001b[0m\u001b[0m\n\u001b[0;32m      3\u001b[0m \u001b[1;32mif\u001b[0m \u001b[1;36m0.0\u001b[0m \u001b[1;33m<=\u001b[0m \u001b[0muser\u001b[0m \u001b[1;33m<=\u001b[0m \u001b[1;36m1.0\u001b[0m\u001b[1;33m:\u001b[0m\u001b[1;33m\u001b[0m\u001b[1;33m\u001b[0m\u001b[0m\n\u001b[0;32m      4\u001b[0m     \u001b[1;32mif\u001b[0m \u001b[0muser\u001b[0m \u001b[1;33m>=\u001b[0m \u001b[1;36m0.9\u001b[0m\u001b[1;33m:\u001b[0m\u001b[1;33m\u001b[0m\u001b[1;33m\u001b[0m\u001b[0m\n\u001b[0;32m      5\u001b[0m         \u001b[0mprint\u001b[0m\u001b[1;33m(\u001b[0m\u001b[1;34m\"Your Score Grade: A\"\u001b[0m\u001b[1;33m)\u001b[0m\u001b[1;33m\u001b[0m\u001b[1;33m\u001b[0m\u001b[0m\n",
      "\u001b[1;31mValueError\u001b[0m: could not convert string to float: ''"
     ]
    }
   ],
   "source": [
    "user = float(input(\"write your score between 0.0 - 1.0: \"))\n",
    "# if i in range(0.0, 1.0):\n",
    "if 0.0 <= user <= 1.0:\n",
    "    if user >= 0.9:\n",
    "        print(\"Your Score Grade: A\")\n",
    "    elif user >= 0.8:\n",
    "        print(\"Your Score Grade: B\")\n",
    "    elif user >= 0.7:\n",
    "        print(\"Your Score Grade: C\")\n",
    "    elif user >= 0.6:\n",
    "        print(\"Your Score Grade: D\")\n",
    "    elif user < 0.6:\n",
    "        print(\"Your Score Grade: F\")\n",
    "else:\n",
    "    print(\"your score out of range! Please write your score in correct type ,between 0.0 - 1.0\")"
   ]
  },
  {
   "cell_type": "markdown",
   "metadata": {
    "id": "k7W9-BOA9n7O"
   },
   "source": [
    "2- Yazi olarak girilen string ifadenin içindeki harfler tamamen büyük veya tamamen küçük ise True, küçük ve büyük harlerden oluşmuş ise False veren bir fonksiyon yazalım."
   ]
  },
  {
   "cell_type": "markdown",
   "metadata": {},
   "source": [
    "RAİFE HOCANIN ÇÖZÜMLERİ ÜSTTE.."
   ]
  },
  {
   "cell_type": "code",
   "execution_count": null,
   "metadata": {},
   "outputs": [],
   "source": []
  },
  {
   "cell_type": "code",
   "execution_count": 158,
   "metadata": {},
   "outputs": [
    {
     "data": {
      "text/plain": [
       "True"
      ]
     },
     "execution_count": 158,
     "metadata": {},
     "output_type": "execute_result"
    }
   ],
   "source": [
    "def büyük_küçük(yazi):\n",
    "    return yazi.upper() == yazi or yazi.lower() == yazi\n",
    "büyük_küçük('ali')"
   ]
  },
  {
   "cell_type": "code",
   "execution_count": 24,
   "metadata": {},
   "outputs": [
    {
     "name": "stdout",
     "output_type": "stream",
     "text": [
      "True\n"
     ]
    }
   ],
   "source": [
    "sentence = input(\"\")\n",
    "if sentence.islower() == True or sentence.isupper() == True:\n",
    "    print(\"True\")\n",
    "else:\n",
    "    print(\"False\") "
   ]
  },
  {
   "cell_type": "markdown",
   "metadata": {
    "id": "6PFwqEFO9nxy"
   },
   "source": [
    "3- Sayıyı kalansız bölen sayıları bulan bir fonksiyon yazalım"
   ]
  },
  {
   "cell_type": "code",
   "execution_count": 160,
   "metadata": {},
   "outputs": [
    {
     "data": {
      "text/plain": [
       "[1, 2, 5, 10, 25, 50, 125, 250]"
      ]
     },
     "execution_count": 160,
     "metadata": {},
     "output_type": "execute_result"
    }
   ],
   "source": [
    "def kalansız_bolen(sayı): # inputları yazmadan yapıyoruz..\n",
    "    a = []\n",
    "    for i in range(1, sayı+1):\n",
    "        if sayı % i == 0:\n",
    "            a.append(i)\n",
    "    return (a)\n",
    "            \n",
    "kalansız_bolen(250)"
   ]
  },
  {
   "cell_type": "code",
   "execution_count": 161,
   "metadata": {},
   "outputs": [
    {
     "data": {
      "text/plain": [
       "[1, 2, 5, 10, 25, 50, 125, 250]"
      ]
     },
     "execution_count": 161,
     "metadata": {},
     "output_type": "execute_result"
    }
   ],
   "source": [
    "def kalansız_bolen(sayı):\n",
    "    return [i for i in range(1, sayı+1) if sayı % i == 0]\n",
    "kalansız_bolen(250)"
   ]
  },
  {
   "cell_type": "code",
   "execution_count": null,
   "metadata": {},
   "outputs": [],
   "source": [
    "# list comprehension la yaparsak.. "
   ]
  },
  {
   "cell_type": "code",
   "execution_count": 32,
   "metadata": {},
   "outputs": [
    {
     "name": "stdout",
     "output_type": "stream",
     "text": [
      "[1, 2, 5]\n"
     ]
    }
   ],
   "source": [
    "sayı =int(input(\"\"))\n",
    "sayaç = []\n",
    "for i in range(1, sayı+1):\n",
    "    if sayı % i == 0:\n",
    "        sayaç.append(i)\n",
    "\n",
    "print(sayaç)\n",
    "    \n",
    "    "
   ]
  },
  {
   "cell_type": "markdown",
   "metadata": {
    "id": "rgWFi-lZ9noI"
   },
   "source": [
    "4- Cümlenin içindeki sesli harfleri kaldıran bir fonksiyon yazalım.\n",
    "print(sessiz_yap(\"Hayat beni neden yoruyosun?:)\")) --> hyt bn ndn yrysn?:)"
   ]
  },
  {
   "cell_type": "code",
   "execution_count": 165,
   "metadata": {},
   "outputs": [
    {
     "data": {
      "text/plain": [
       "'hyt bn ndn yryrsn'"
      ]
     },
     "execution_count": 165,
     "metadata": {},
     "output_type": "execute_result"
    }
   ],
   "source": [
    "def sessiz_yap(cümle):\n",
    "    sesliler = 'aeıioöuüAEIİOÖUÜ'\n",
    "    for i in set(cümle):\n",
    "        if i in sesliler:\n",
    "            cümle = cümle.replace(i,\"\")\n",
    "    return cümle\n",
    "\n",
    "sessiz_yap('hayat beni neden yoruyorsun')"
   ]
  },
  {
   "cell_type": "code",
   "execution_count": 166,
   "metadata": {},
   "outputs": [
    {
     "data": {
      "text/plain": [
       "'hyt bn ndn yryrsn'"
      ]
     },
     "execution_count": 166,
     "metadata": {},
     "output_type": "execute_result"
    }
   ],
   "source": [
    "def sessiz_yap(cümle):\n",
    "    sesliler = 'aeıioöuüAEIİOÖUÜ'\n",
    "    yeni = ''\n",
    "    for i in cümle:\n",
    "        if i not in sesliler:\n",
    "            yeni += i\n",
    "        \n",
    "    return yeni\n",
    "\n",
    "sessiz_yap('hayat beni neden yoruyorsun')   "
   ]
  },
  {
   "cell_type": "code",
   "execution_count": 163,
   "metadata": {},
   "outputs": [
    {
     "data": {
      "text/plain": [
       "'Hayat bni ndn yoruyorsun'"
      ]
     },
     "execution_count": 163,
     "metadata": {},
     "output_type": "execute_result"
    }
   ],
   "source": [
    "'Hayat beni neden yoruyorsun'.replace('e',\"\")"
   ]
  },
  {
   "cell_type": "markdown",
   "metadata": {
    "id": "yxwOQSQe9ne1"
   },
   "source": [
    "5- Tarihi yüzyıla çeviren bir fonksiyon yazalım.\n",
    "print(yüzyıl_yap(1738)) --> 18. yüzyıl"
   ]
  },
  {
   "cell_type": "code",
   "execution_count": 168,
   "metadata": {},
   "outputs": [
    {
     "data": {
      "text/plain": [
       "'16.yüzyıl'"
      ]
     },
     "execution_count": 168,
     "metadata": {},
     "output_type": "execute_result"
    }
   ],
   "source": [
    "def yüzyıl_yap(yıl):\n",
    "    return f'{(yıl//100)+1}.yüzyıl'\n",
    "yüzyıl_yap(50)\n",
    "yüzyıl_yap(1500)"
   ]
  },
  {
   "cell_type": "markdown",
   "metadata": {
    "id": "Y4qLf-_89nL4"
   },
   "source": [
    "6- Yazının içersindeki kelimelerin ilk ve son karakterleri sabit tutup diğer karakterleri yerine - çizgi koyan fonksiyon yazalım.\n",
    "print(dönüstür(\"hello world\")) --> h---o w---d "
   ]
  },
  {
   "cell_type": "code",
   "execution_count": 169,
   "metadata": {},
   "outputs": [
    {
     "data": {
      "text/plain": [
       "'h-----o w---d'"
      ]
     },
     "execution_count": 169,
     "metadata": {},
     "output_type": "execute_result"
    }
   ],
   "source": [
    "def dönüştür(yazı):\n",
    "    liste = yazı.split()\n",
    "    yeni = ''\n",
    "    for i in liste:\n",
    "        for k in range(len(i)):\n",
    "            if k == 0:\n",
    "                yeni += i[k]\n",
    "            elif k == len(i)-1:\n",
    "                yeni += i[k] + \" \"\n",
    "            else:\n",
    "                yeni += \"-\"\n",
    "    return yeni.strip()\n",
    "\n",
    "dönüştür(\"hellooo world\")\n"
   ]
  },
  {
   "cell_type": "code",
   "execution_count": 87,
   "metadata": {},
   "outputs": [
    {
     "name": "stdout",
     "output_type": "stream",
     "text": [
      "h---o w---d "
     ]
    }
   ],
   "source": [
    "yazı = list(map(str, input(\"write a sentence: \").split()))\n",
    "for i in yazı:\n",
    "    print(i[0]+\"-\" * int(len(i)-2) + i[-1], end=\" \")\n",
    "\n",
    "\n",
    "    \n",
    "    \n",
    "       \n",
    "\n",
    "\n",
    "# print(\"-\"* x)"
   ]
  },
  {
   "cell_type": "markdown",
   "metadata": {
    "id": "mEPc7d0Z9nAI"
   },
   "source": [
    "7- Her girdi listesinde iki tanesi hariç her rakam en az bir kere tekrarlıyor.iki benzersiz sayıyı döndüren bir fonksiyon yazalım.\n",
    "benzersizi_bul([2,2,3,11,3,67,5]) --> [6, 5]  # 11 de 2 tane 1 var"
   ]
  },
  {
   "cell_type": "code",
   "execution_count": 173,
   "metadata": {},
   "outputs": [
    {
     "data": {
      "text/plain": [
       "[67, 5]"
      ]
     },
     "execution_count": 173,
     "metadata": {},
     "output_type": "execute_result"
    }
   ],
   "source": [
    "def benzersizi_bul(a):\n",
    "    b =\"\"\n",
    "    n = []\n",
    "    for i in a:\n",
    "        b += str(i)\n",
    "    for i in set(b):\n",
    "        for j in a:\n",
    "            if b.count(i) == 1 and i in str(j):\n",
    "                n.append(j)\n",
    "    return list(set(n))\n",
    "\n",
    "benzersizi_bul([2,2,3,11,3,67,5])"
   ]
  },
  {
   "cell_type": "code",
   "execution_count": 174,
   "metadata": {},
   "outputs": [
    {
     "data": {
      "text/plain": [
       "[67, 5]"
      ]
     },
     "execution_count": 174,
     "metadata": {},
     "output_type": "execute_result"
    }
   ],
   "source": [
    "#list comprehension ile ..\n",
    "def benzersizi_bul2(a):\n",
    "    b = \"\".join(map(str, a))\n",
    "    return list({j for i in set(b)for j in a if b.count(i) == 1 and i in str(j)})\n",
    "\n",
    "benzersizi_bul2([2,2,3,11,3,67,5])"
   ]
  },
  {
   "cell_type": "code",
   "execution_count": 172,
   "metadata": {},
   "outputs": [
    {
     "name": "stdout",
     "output_type": "stream",
     "text": [
      "2\n",
      "22\n",
      "223\n",
      "22311\n",
      "223113\n",
      "22311367\n",
      "223113675\n"
     ]
    }
   ],
   "source": [
    "a = [2,2,3,11,3,67,5]\n",
    "b = \"\"\n",
    "for i in a:\n",
    "    b += str(i)\n",
    "    print(b)"
   ]
  },
  {
   "cell_type": "code",
   "execution_count": 136,
   "metadata": {},
   "outputs": [
    {
     "name": "stdout",
     "output_type": "stream",
     "text": [
      "{2, 3, 4, 6, 7}\n"
     ]
    }
   ],
   "source": [
    "given_list = [2,2,3,11,3,6,5,2,4,7,2,6,3,4,7]\n",
    "counter = []\n",
    "for i in given_list:\n",
    "    if given_list.count(i) >= 2:\n",
    "        counter.append(i)\n",
    "print(set(counter))  "
   ]
  },
  {
   "cell_type": "markdown",
   "metadata": {
    "id": "GMgm2Jhu9mQj"
   },
   "source": [
    "8- Bir stringi(kelime) alan ve birbirini izleyen aynı harfleri çıkaran bir fonksiyon oluşturun.\n",
    "print(cıkar(\"mmmeeerrhhhaaabbbaaa\")) --> merhaba"
   ]
  },
  {
   "cell_type": "code",
   "execution_count": 179,
   "metadata": {},
   "outputs": [
    {
     "data": {
      "text/plain": [
       "'merhaba'"
      ]
     },
     "execution_count": 179,
     "metadata": {},
     "output_type": "execute_result"
    }
   ],
   "source": [
    "def çıkar(kelime):\n",
    "    yeni = \"\"\n",
    "    for i in range(len(kelime)-1):\n",
    "        if kelime[i] != kelime[i+1]:\n",
    "            yeni += kelime[i]\n",
    "    yeni += kelime[-1]\n",
    "    return yeni\n",
    "çıkar(\"mmmmmeeeerrrrhhhaaaba\")"
   ]
  },
  {
   "cell_type": "code",
   "execution_count": 155,
   "metadata": {},
   "outputs": [
    {
     "name": "stdout",
     "output_type": "stream",
     "text": [
      "{'m', 'a', 'b', 'e', 'r', 'h'}\n"
     ]
    }
   ],
   "source": [
    "word = list(input(\"write a word\"))\n",
    "list1 = []\n",
    "for i in word:\n",
    "    if word.count(i) >= 2:\n",
    "        list1.append(i)\n",
    "        \n",
    "print(set(list1))        \n"
   ]
  },
  {
   "cell_type": "code",
   "execution_count": 146,
   "metadata": {},
   "outputs": [
    {
     "data": {
      "text/plain": [
       "7"
      ]
     },
     "execution_count": 146,
     "metadata": {},
     "output_type": "execute_result"
    }
   ],
   "source": [
    "a = \"nnnnaaaassssıııllllssssııınnn\"\n",
    "a.count(\"n\")"
   ]
  },
  {
   "cell_type": "markdown",
   "metadata": {
    "id": "3oD9kK_q9mBH"
   },
   "source": [
    "9- Belirli aralıkta(sınırlar dahil) verilen rakamın kaç kere olduğunu sayan bir fonksiyon yazalım. print(kac_tane(50,55,5)) --> 7 (yani 50 den 55 e kadar olan sayılarda 5 toplam 7 defa geçiyor..)"
   ]
  },
  {
   "cell_type": "code",
   "execution_count": 180,
   "metadata": {},
   "outputs": [
    {
     "data": {
      "text/plain": [
       "7"
      ]
     },
     "execution_count": 180,
     "metadata": {},
     "output_type": "execute_result"
    }
   ],
   "source": [
    "def kaç_tane(başlangıç, bitiş, sayı):\n",
    "    sonuç = 0\n",
    "    for i in range(başlangıç, bitiş+1):\n",
    "        sonuç += str(i).count(str(sayı))\n",
    "    return sonuç\n",
    "\n",
    "kaç_tane(50, 55, 5)    \n",
    "    "
   ]
  },
  {
   "cell_type": "markdown",
   "metadata": {
    "id": "n1Tuy6szEGR8"
   },
   "source": [
    "10- Yüksekliği verilen yılbaşı ağacını oluşturan bir fonksiyon yazalım. agac(7)\n",
    "\n",
    "\n",
    "```\n",
    "      #      \n",
    "     ###     \n",
    "    #####    \n",
    "   #######   \n",
    "  #########  \n",
    " ########### \n",
    "############# \n",
    "```\n",
    "\n"
   ]
  },
  {
   "cell_type": "code",
   "execution_count": 187,
   "metadata": {},
   "outputs": [
    {
     "name": "stdout",
     "output_type": "stream",
     "text": [
      "      #      \n",
      "     ###     \n",
      "    #####    \n",
      "   #######   \n",
      "  #########  \n",
      " ########### \n",
      "#############\n"
     ]
    }
   ],
   "source": [
    "def ağaç(n):\n",
    "    for i in range(1, 2*n,2): #2n-1 formulde son indexi de alsın diye -1 i silip 2n diye yazdık..\n",
    "        print((i*\"#\").center(2*n-1))\n",
    "        \n",
    "ağaç(7)"
   ]
  },
  {
   "cell_type": "code",
   "execution_count": 185,
   "metadata": {},
   "outputs": [
    {
     "name": "stdout",
     "output_type": "stream",
     "text": [
      "      #      \n",
      "     ###     \n",
      "    #####    \n",
      "   #######   \n",
      "  #########  \n",
      " ########### \n",
      "#############\n"
     ]
    }
   ],
   "source": [
    "def ağaç1(n):\n",
    "    i = 1\n",
    "    while i <= 2*n-1:\n",
    "        print((i*\"#\").center(2*n-1))\n",
    "        i += 2\n",
    "\n",
    "ağaç1(7)\n",
    "        "
   ]
  }
 ],
 "metadata": {
  "colab": {
   "name": "group_2.ipynb",
   "provenance": []
  },
  "kernelspec": {
   "display_name": "Python 3",
   "language": "python",
   "name": "python3"
  },
  "language_info": {
   "codemirror_mode": {
    "name": "ipython",
    "version": 3
   },
   "file_extension": ".py",
   "mimetype": "text/x-python",
   "name": "python",
   "nbconvert_exporter": "python",
   "pygments_lexer": "ipython3",
   "version": "3.9.7"
  }
 },
 "nbformat": 4,
 "nbformat_minor": 1
}
